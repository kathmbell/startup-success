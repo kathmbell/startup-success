{
 "cells": [
  {
   "cell_type": "code",
   "execution_count": 2,
   "metadata": {},
   "outputs": [
    {
     "name": "stderr",
     "output_type": "stream",
     "text": [
      "Using TensorFlow backend.\n"
     ]
    }
   ],
   "source": [
    "import pandas as pd\n",
    "import numpy as np\n",
    "\n",
    "\n",
    "from imblearn.over_sampling import ADASYN\n",
    "from sklearn.neural_network import MLPClassifier\n",
    "from sklearn.metrics import classification_report,confusion_matrix\n",
    "\n"
   ]
  },
  {
   "cell_type": "code",
   "execution_count": 3,
   "metadata": {},
   "outputs": [],
   "source": [
    "df = pd.read_pickle(\"./raw_data.pkl\")"
   ]
  },
  {
   "cell_type": "code",
   "execution_count": 4,
   "metadata": {},
   "outputs": [],
   "source": [
    "X = df.loc[:, df.columns != 'target']\n",
    "y = df.target"
   ]
  },
  {
   "cell_type": "code",
   "execution_count": 5,
   "metadata": {},
   "outputs": [],
   "source": [
    "X_adasyn, y_adasyn = ADASYN(random_state=42).fit_sample(X,y)"
   ]
  },
  {
   "cell_type": "code",
   "execution_count": 6,
   "metadata": {},
   "outputs": [],
   "source": [
    "X_train_adasyn, X_test_adasyn, y_train_adasyn, y_test_adasyn = train_test_split(X_adasyn,y_adasyn \n",
    "                                                                                , test_size=0.2\n",
    "                                                                                , random_state=42)\n",
    "\n",
    "X_train_adasyn, X_val_adasyn, y_train_adasyn, y_val_adasyn = train_test_split(X_train_adasyn\n",
    "                                                                              ,y_train_adasyn \n",
    "                                                                              , test_size=0.25\n",
    "                                                                              , random_state=42)"
   ]
  },
  {
   "cell_type": "code",
   "execution_count": 8,
   "metadata": {},
   "outputs": [],
   "source": [
    "mlp = MLPClassifier(hidden_layer_sizes=(30,30,30), max_iter=500, alpha=0.0001,\n",
    "                     solver='sgd', verbose=10,  random_state=21,tol=0.000000001)\n"
   ]
  },
  {
   "cell_type": "code",
   "execution_count": 9,
   "metadata": {},
   "outputs": [
    {
     "name": "stdout",
     "output_type": "stream",
     "text": [
      "Iteration 1, loss = 11774676000460241340914661419165466493508010194152892381723413832872848952456209608812846458125939605991701825557840176718387316419650505315165859933591090999968030677905948252632687040243956054777091353844994015232.00000000\n",
      "Iteration 2, loss = 86211997335091366873895999167308686358363701100998285535805413301492376924147715429760650861227893411950680934541395587154476094618230748656391640756919651403277845707323588317981808805364100929954831611278777122816.00000000\n",
      "Iteration 3, loss = 92957125516153451147247424111778609977969683258162170809117133242407958321786222765301276616853837293120863731117368526149339205815351658368177929325123036937194347498602264712661350608680764051032506698762410786816.00000000\n",
      "Iteration 4, loss = 93033134833274881871013651445639931909466728537283538285695893760341975297864404963666635731466240121993945568352378914957449771409900056589734350446924079807871510124144732882346996688317795751958017391839735185408.00000000\n",
      "Iteration 5, loss = 93033907923047331735682930079745582409100448339810782574262941704716956075178049538924591005500520057153020723469870448006033974688839152698236563840889676040619406624849785219916575134877376157607764485134027325440.00000000\n",
      "Iteration 6, loss = 93033869930850745317513554075228523166712822978318279262103677134915481638830252887643524948311673955634628246289427091280006536627406290179164949271655999136602891454199309451377633977935219921740795089078391406592.00000000\n",
      "Iteration 7, loss = 93033823199010241694755037165761646082171067007390334623074503196564390599340116554938098004999548514572664506390209143900788219889746348257031223178912888934367289473004412911039824379163247980126467172734913740800.00000000\n",
      "Iteration 8, loss = 93033776373021123254016352289129335884510814551593033418764024282166234841215065112220977887078757664801042810567739365645884237644494411636327744690079172617323463026505124915975508620056462308369846621984453033984.00000000\n",
      "Iteration 9, loss = 93033729546040765529649778034014753409732579557222892042156553043838666223299487190383424229421322606886877014825704351472340825745987360439575208637063315969521091351890035079785899350748631532010081089161235791872.00000000\n",
      "Iteration 10, loss = 93033682719073018602555559984626532784229827689803454379395752937028491436820847374488849503841465273121168458834378684785628885191357509970744376264326924764641746787939790383720647084920066546957743741113515114496.00000000\n",
      "Iteration 11, loss = 93033635892128694461290422353764969068458777411743138637345613626845463918443591840345725784123451845816327370908103460168540193384687740975321988966950269071352364566104523611042667918118241058961995312891602927616.00000000\n",
      "Iteration 12, loss = 93033589065207965332220755438625111210285102999434291300717242913264783280433171942966931386486854706637507188312062872048057274213830701111200755899899229297826400291840962540600397681953645799618840134788336058368.00000000\n",
      "Training loss did not improve more than tol=0.000000 for 10 consecutive epochs. Stopping.\n"
     ]
    }
   ],
   "source": [
    "mlp.fit(X_train_adasyn, y_train_adasyn)\n",
    "y_pred_adasyn = mlp.predict(X_val_adasyn)"
   ]
  },
  {
   "cell_type": "code",
   "execution_count": 11,
   "metadata": {},
   "outputs": [
    {
     "name": "stdout",
     "output_type": "stream",
     "text": [
      "Accuracy Score: 0.4960826210826211\n",
      "Recall Score: 0.0\n",
      "F1 Score: 0.0\n",
      "FBeta: 0.2665694451776382\n"
     ]
    },
    {
     "name": "stderr",
     "output_type": "stream",
     "text": [
      "/Users/kathmbell/anaconda3/lib/python3.7/site-packages/sklearn/metrics/classification.py:1143: UndefinedMetricWarning: F-score is ill-defined and being set to 0.0 due to no predicted samples.\n",
      "  'precision', 'predicted', average, warn_for)\n",
      "/Users/kathmbell/anaconda3/lib/python3.7/site-packages/sklearn/metrics/classification.py:1143: UndefinedMetricWarning: F-score is ill-defined and being set to 0.0 in labels with no predicted samples.\n",
      "  'precision', 'predicted', average, warn_for)\n"
     ]
    }
   ],
   "source": [
    "print(f\"Accuracy Score: {metrics.accuracy_score(y_val_adasyn, y_pred_adasyn)}\")\n",
    "print(f\"Recall Score: {metrics.recall_score(y_val_adasyn,y_pred_adasyn)}\")\n",
    "print(f\"F1 Score: {metrics.f1_score(y_val_adasyn,y_pred_adasyn)}\")\n",
    "print(f\"FBeta: {metrics.fbeta_score(y_val_adasyn, y_pred_adasyn, average='macro', beta=0.4)}\")"
   ]
  },
  {
   "cell_type": "code",
   "execution_count": 12,
   "metadata": {},
   "outputs": [
    {
     "name": "stdout",
     "output_type": "stream",
     "text": [
      "[[1393    0]\n",
      " [1415    0]]\n"
     ]
    }
   ],
   "source": [
    "confusion_matrix(y_val_adasyn,y_pred_adasyn)"
   ]
  },
  {
   "cell_type": "code",
   "execution_count": 13,
   "metadata": {},
   "outputs": [
    {
     "name": "stdout",
     "output_type": "stream",
     "text": [
      "              precision    recall  f1-score   support\n",
      "\n",
      "           0       0.50      1.00      0.66      1393\n",
      "           1       0.00      0.00      0.00      1415\n",
      "\n",
      "   micro avg       0.50      0.50      0.50      2808\n",
      "   macro avg       0.25      0.50      0.33      2808\n",
      "weighted avg       0.25      0.50      0.33      2808\n",
      "\n"
     ]
    },
    {
     "name": "stderr",
     "output_type": "stream",
     "text": [
      "/Users/kathmbell/anaconda3/lib/python3.7/site-packages/sklearn/metrics/classification.py:1143: UndefinedMetricWarning: Precision and F-score are ill-defined and being set to 0.0 in labels with no predicted samples.\n",
      "  'precision', 'predicted', average, warn_for)\n",
      "/Users/kathmbell/anaconda3/lib/python3.7/site-packages/sklearn/metrics/classification.py:1143: UndefinedMetricWarning: Precision and F-score are ill-defined and being set to 0.0 in labels with no predicted samples.\n",
      "  'precision', 'predicted', average, warn_for)\n",
      "/Users/kathmbell/anaconda3/lib/python3.7/site-packages/sklearn/metrics/classification.py:1143: UndefinedMetricWarning: Precision and F-score are ill-defined and being set to 0.0 in labels with no predicted samples.\n",
      "  'precision', 'predicted', average, warn_for)\n"
     ]
    }
   ],
   "source": [
    "classification_report(y_val_adasyn,y_pred_adasyn)\n"
   ]
  },
  {
   "cell_type": "code",
   "execution_count": null,
   "metadata": {},
   "outputs": [],
   "source": []
  }
 ],
 "metadata": {
  "kernelspec": {
   "display_name": "Python 3",
   "language": "python",
   "name": "python3"
  },
  "language_info": {
   "codemirror_mode": {
    "name": "ipython",
    "version": 3
   },
   "file_extension": ".py",
   "mimetype": "text/x-python",
   "name": "python",
   "nbconvert_exporter": "python",
   "pygments_lexer": "ipython3",
   "version": "3.7.3"
  }
 },
 "nbformat": 4,
 "nbformat_minor": 2
}
