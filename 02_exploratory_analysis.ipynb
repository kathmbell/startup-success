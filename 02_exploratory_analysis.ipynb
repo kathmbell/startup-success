{
 "cells": [
  {
   "cell_type": "markdown",
   "metadata": {},
   "source": [
    "# inital EDA"
   ]
  },
  {
   "cell_type": "code",
   "execution_count": 54,
   "metadata": {},
   "outputs": [],
   "source": [
    "import pandas as pd\n",
    "import numpy as np"
   ]
  },
  {
   "cell_type": "code",
   "execution_count": 13,
   "metadata": {},
   "outputs": [],
   "source": [
    "filepath = '/Users/kathmbell/Documents/Metis-Bootcamp/GitHub/crunchbase_files/combined_csv.csv'\n",
    "df = pd.read_csv(filepath, header = 0)"
   ]
  },
  {
   "cell_type": "code",
   "execution_count": 14,
   "metadata": {},
   "outputs": [
    {
     "data": {
      "text/plain": [
       "['Aberdeen - IT Spend',\n",
       " 'Aberdeen - IT Spend Currency',\n",
       " 'Aberdeen - IT Spend Currency (in USD)',\n",
       " 'Accelerator Application Deadline',\n",
       " 'Accelerator Duration (in weeks)',\n",
       " 'Accelerator Program Type',\n",
       " 'Acquired by',\n",
       " 'Acquired by URL',\n",
       " 'Acquisition Status',\n",
       " 'Acquisition Terms',\n",
       " 'Acquisition Type',\n",
       " 'Announced Date',\n",
       " 'Announced Date Precision',\n",
       " 'Apptopia - Downloads Last 30 Days',\n",
       " 'Apptopia - Number of Apps',\n",
       " 'BuiltWith - Active Tech Count',\n",
       " 'CB Rank (Company)',\n",
       " 'CB Rank (Organization)',\n",
       " 'CB Rank (School)',\n",
       " 'Categories',\n",
       " 'Category Groups',\n",
       " 'Closed Date',\n",
       " 'Closed Date Precision',\n",
       " 'Company Type',\n",
       " 'Contact Email',\n",
       " 'Delisted Date',\n",
       " 'Delisted Date Precision',\n",
       " 'Description',\n",
       " 'Estimated Revenue Range',\n",
       " 'Exit Date',\n",
       " 'Exit Date Precision',\n",
       " 'Facebook',\n",
       " 'Founded Date',\n",
       " 'Founded Date Precision',\n",
       " 'Founders',\n",
       " 'Full Description',\n",
       " 'Funding Status',\n",
       " 'Headquarters Location',\n",
       " 'Headquarters Regions',\n",
       " 'Hub Tags',\n",
       " 'IPO Date',\n",
       " 'IPO Status',\n",
       " 'IPqwery - Most Popular Patent Class',\n",
       " 'IPqwery - Most Popular Trademark Class',\n",
       " 'IPqwery - Patents Granted',\n",
       " 'IPqwery - Trademarks Registered',\n",
       " 'Investment Stage',\n",
       " 'Investor Type',\n",
       " 'Last Equity Funding Amount',\n",
       " 'Last Equity Funding Amount Currency',\n",
       " 'Last Equity Funding Amount Currency (in USD)',\n",
       " 'Last Equity Funding Type',\n",
       " 'Last Funding Amount',\n",
       " 'Last Funding Amount Currency',\n",
       " 'Last Funding Amount Currency (in USD)',\n",
       " 'Last Funding Date',\n",
       " 'Last Funding Type',\n",
       " 'LinkedIn',\n",
       " 'Money Raised at IPO',\n",
       " 'Money Raised at IPO Currency',\n",
       " 'Money Raised at IPO Currency (in USD)',\n",
       " 'Number of Acquisitions',\n",
       " 'Number of Alumni',\n",
       " 'Number of Articles',\n",
       " 'Number of Employees',\n",
       " 'Number of Enrollments',\n",
       " 'Number of Events',\n",
       " 'Number of Exits',\n",
       " 'Number of Exits (IPO)',\n",
       " 'Number of Founders',\n",
       " 'Number of Founders (Alumni)',\n",
       " 'Number of Funding Rounds',\n",
       " 'Number of Investments',\n",
       " 'Number of Investors',\n",
       " 'Number of Lead Investments',\n",
       " 'Number of Lead Investors',\n",
       " 'Number of Portfolio Organizations',\n",
       " 'Operating Status',\n",
       " 'Organization Name',\n",
       " 'Organization Name URL',\n",
       " 'Phone Number',\n",
       " 'Price',\n",
       " 'Price Currency',\n",
       " 'Price Currency (in USD)',\n",
       " 'School Method',\n",
       " 'School Program',\n",
       " 'School Type',\n",
       " 'Siftery - Total Products Active',\n",
       " 'SimilarWeb - Average Visits (6 months)',\n",
       " 'SimilarWeb - Bounce Rate',\n",
       " 'SimilarWeb - Bounce Rate Growth',\n",
       " 'SimilarWeb - Global Traffic Rank',\n",
       " 'SimilarWeb - Monthly Rank Change (#)',\n",
       " 'SimilarWeb - Monthly Rank Growth',\n",
       " 'SimilarWeb - Monthly Visits',\n",
       " 'SimilarWeb - Monthly Visits Growth',\n",
       " 'SimilarWeb - Page Views / Visit',\n",
       " 'SimilarWeb - Page Views / Visit Growth',\n",
       " 'SimilarWeb - Visit Duration',\n",
       " 'SimilarWeb - Visit Duration Growth',\n",
       " 'Stock Exchange',\n",
       " 'Stock Symbol',\n",
       " 'Stock Symbol URL',\n",
       " 'Top 5 Investors',\n",
       " 'Total Equity Funding Amount',\n",
       " 'Total Equity Funding Amount Currency',\n",
       " 'Total Equity Funding Amount Currency (in USD)',\n",
       " 'Total Funding Amount',\n",
       " 'Total Funding Amount Currency',\n",
       " 'Total Funding Amount Currency (in USD)',\n",
       " 'Transaction Name',\n",
       " 'Transaction Name URL',\n",
       " 'Trend Score (30 Days)',\n",
       " 'Trend Score (7 Days)',\n",
       " 'Trend Score (90 Days)',\n",
       " 'Twitter',\n",
       " 'Valuation at IPO',\n",
       " 'Valuation at IPO Currency',\n",
       " 'Valuation at IPO Currency (in USD)',\n",
       " 'Website']"
      ]
     },
     "execution_count": 14,
     "metadata": {},
     "output_type": "execute_result"
    }
   ],
   "source": [
    "list(df.columns)"
   ]
  },
  {
   "cell_type": "code",
   "execution_count": 16,
   "metadata": {},
   "outputs": [],
   "source": [
    "df.drop(['Stock Exchange','Stock Symbol','Stock Symbol URL','Website'\n",
    "         ,'Valuation at IPO Currency (in USD)', 'Valuation at IPO Currency','Valuation at IPO'\n",
    "         ,'Twitter','Trend Score (90 Days)', 'Trend Score (7 Days)','Trend Score (30 Days)','Transaction Name URL'\n",
    "         ,'Transaction Name','SimilarWeb - Average Visits (6 months)','SimilarWeb - Bounce Rate', 'SimilarWeb - Bounce Rate Growth'\n",
    "         ,'SimilarWeb - Global Traffic Rank','SimilarWeb - Monthly Rank Change (#)','SimilarWeb - Monthly Rank Growth'\n",
    "         ,'SimilarWeb - Monthly Visits','SimilarWeb - Monthly Visits Growth','SimilarWeb - Page Views / Visit', 'SimilarWeb - Page Views / Visit Growth'\n",
    "         ,'SimilarWeb - Visit Duration','SimilarWeb - Visit Duration Growth','School Method','School Program','School Type'\n",
    "         ,'Siftery - Total Products Active','LinkedIn','Money Raised at IPO','Money Raised at IPO Currency','Money Raised at IPO Currency (in USD)'\n",
    "         ,'IPqwery - Most Popular Patent Class','IPqwery - Most Popular Trademark Class','IPqwery - Patents Granted','IPqwery - Trademarks Registered'\n",
    "         ,'Aberdeen - IT Spend','Aberdeen - IT Spend Currency','Aberdeen - IT Spend Currency (in USD)','Accelerator Application Deadline'\n",
    "         ,'Accelerator Duration (in weeks)','Accelerator Program Type','Apptopia - Downloads Last 30 Days','Apptopia - Number of Apps','BuiltWith - Active Tech Count'\n",
    "         ,'CB Rank (Company)','CB Rank (Organization)','CB Rank (School)','Phone Number','Price','Price Currency','Price Currency (in USD)'\n",
    "         ,'Number of Acquisitions','Number of Alumni','Number of Articles','Estimated Revenue Range','Founded Date Precision'\n",
    "         ,'Announced Date','Announced Date Precision','Estimated Revenue Range','Exit Date','Exit Date Precision','Facebook','Organization Name URL','Acquired by'\n",
    "         ,'Acquired by URL','Acquisition Status','Acquisition Terms','Acquisition Type','Closed Date','Closed Date Precision','Contact Email'\n",
    "         ,'Delisted Date','Delisted Date Precision',], axis=1, inplace=True)\n",
    "\n"
   ]
  },
  {
   "cell_type": "code",
   "execution_count": 32,
   "metadata": {},
   "outputs": [],
   "source": [
    "df.columns = map(str.lower, df.columns)\n",
    "df.columns = df.columns.str.replace(\" \", \"_\")"
   ]
  },
  {
   "cell_type": "code",
   "execution_count": 34,
   "metadata": {},
   "outputs": [
    {
     "data": {
      "text/plain": [
       "Index(['categories', 'category_groups', 'company_type', 'description',\n",
       "       'founded_date', 'founders', 'full_description', 'funding_status',\n",
       "       'headquarters_location', 'headquarters_regions', 'hub_tags', 'ipo_date',\n",
       "       'ipo_status', 'investment_stage', 'investor_type',\n",
       "       'last_equity_funding_amount', 'last_equity_funding_amount_currency',\n",
       "       'last_equity_funding_amount_currency_(in_usd)',\n",
       "       'last_equity_funding_type', 'last_funding_amount',\n",
       "       'last_funding_amount_currency', 'last_funding_amount_currency_(in_usd)',\n",
       "       'last_funding_date', 'last_funding_type', 'number_of_employees',\n",
       "       'number_of_enrollments', 'number_of_events', 'number_of_exits',\n",
       "       'number_of_exits_(ipo)', 'number_of_founders',\n",
       "       'number_of_founders_(alumni)', 'number_of_funding_rounds',\n",
       "       'number_of_investments', 'number_of_investors',\n",
       "       'number_of_lead_investments', 'number_of_lead_investors',\n",
       "       'number_of_portfolio_organizations', 'operating_status',\n",
       "       'organization_name', 'top_5_investors', 'total_equity_funding_amount',\n",
       "       'total_equity_funding_amount_currency',\n",
       "       'total_equity_funding_amount_currency_(in_usd)', 'total_funding_amount',\n",
       "       'total_funding_amount_currency',\n",
       "       'total_funding_amount_currency_(in_usd)'],\n",
       "      dtype='object')"
      ]
     },
     "execution_count": 34,
     "metadata": {},
     "output_type": "execute_result"
    }
   ],
   "source": [
    "df.columns"
   ]
  },
  {
   "cell_type": "code",
   "execution_count": 59,
   "metadata": {},
   "outputs": [],
   "source": [
    "df.drop(['investor_type','full_description','number_of_lead_investments','number_of_enrollments'\n",
    "         ,'number_of_portfolio_organizations', 'number_of_founders_(alumni)','hub_tags'\n",
    "         ,'headquarters_regions','number_of_investments'], axis=1, inplace=True)"
   ]
  },
  {
   "cell_type": "code",
   "execution_count": 60,
   "metadata": {},
   "outputs": [
    {
     "name": "stdout",
     "output_type": "stream",
     "text": [
      "<class 'pandas.core.frame.DataFrame'>\n",
      "RangeIndex: 18629 entries, 0 to 18628\n",
      "Data columns (total 38 columns):\n",
      "categories                                       18591 non-null object\n",
      "category_groups                                  18559 non-null object\n",
      "company_type                                     13087 non-null object\n",
      "description                                      18629 non-null object\n",
      "founded_date                                     18629 non-null object\n",
      "founders                                         13993 non-null object\n",
      "funding_status                                   9002 non-null object\n",
      "headquarters_location                            18629 non-null object\n",
      "ipo_date                                         83 non-null object\n",
      "ipo_status                                       18629 non-null object\n",
      "investment_stage                                 69 non-null object\n",
      "last_equity_funding_amount                       7013 non-null float64\n",
      "last_equity_funding_amount_currency              7013 non-null object\n",
      "last_equity_funding_amount_currency_(in_usd)     7013 non-null float64\n",
      "last_equity_funding_type                         9726 non-null object\n",
      "last_funding_amount                              7245 non-null float64\n",
      "last_funding_amount_currency                     7245 non-null object\n",
      "last_funding_amount_currency_(in_usd)            7245 non-null float64\n",
      "last_funding_date                                10188 non-null object\n",
      "last_funding_type                                10188 non-null object\n",
      "number_of_employees                              16647 non-null object\n",
      "number_of_events                                 4612 non-null float64\n",
      "number_of_exits                                  58 non-null float64\n",
      "number_of_exits_(ipo)                            58 non-null float64\n",
      "number_of_founders                               13993 non-null float64\n",
      "number_of_funding_rounds                         10189 non-null float64\n",
      "number_of_investors                              8317 non-null float64\n",
      "number_of_lead_investors                         4403 non-null float64\n",
      "operating_status                                 18629 non-null object\n",
      "organization_name                                18629 non-null object\n",
      "top_5_investors                                  8316 non-null object\n",
      "total_equity_funding_amount                      7701 non-null float64\n",
      "total_equity_funding_amount_currency             7701 non-null object\n",
      "total_equity_funding_amount_currency_(in_usd)    7701 non-null float64\n",
      "total_funding_amount                             8074 non-null float64\n",
      "total_funding_amount_currency                    8074 non-null object\n",
      "total_funding_amount_currency_(in_usd)           8074 non-null float64\n",
      "last_funding_amount_check                        18629 non-null bool\n",
      "dtypes: bool(1), float64(15), object(22)\n",
      "memory usage: 5.3+ MB\n"
     ]
    }
   ],
   "source": [
    "df.info()"
   ]
  },
  {
   "cell_type": "code",
   "execution_count": 51,
   "metadata": {},
   "outputs": [
    {
     "data": {
      "text/plain": [
       "array(['USD', nan, 'INR', 'EUR', 'AUD', 'CAD', 'CNY', 'ISK', 'GBP', 'BRL',\n",
       "       'DKK', 'NZD', 'RUB', 'COP', 'KRW', 'MYR', 'ARS', 'SEK', 'NOK',\n",
       "       'JPY', 'SGD'], dtype=object)"
      ]
     },
     "execution_count": 51,
     "metadata": {},
     "output_type": "execute_result"
    }
   ],
   "source": [
    "df.last_funding_amount_currency.unique()"
   ]
  },
  {
   "cell_type": "code",
   "execution_count": 61,
   "metadata": {},
   "outputs": [],
   "source": [
    "df['last_funding_amount_check'] =df['last_funding_amount'].equals(df['last_funding_amount_currency_(in_usd)'])\n"
   ]
  },
  {
   "cell_type": "code",
   "execution_count": 69,
   "metadata": {},
   "outputs": [
    {
     "data": {
      "text/plain": [
       "0.33130851139855644"
      ]
     },
     "execution_count": 69,
     "metadata": {},
     "output_type": "execute_result"
    }
   ],
   "source": [
    "# 33% of my number of founders are NaNs. I am planning on imputing the data\n",
    "\n",
    "round(df['number_of_founders'].mean())\n",
    "df['number_of_founders'].isna().sum()/df['number_of_founders'].count()\n"
   ]
  },
  {
   "cell_type": "code",
   "execution_count": null,
   "metadata": {},
   "outputs": [],
   "source": []
  }
 ],
 "metadata": {
  "kernelspec": {
   "display_name": "Python 3",
   "language": "python",
   "name": "python3"
  },
  "language_info": {
   "codemirror_mode": {
    "name": "ipython",
    "version": 3
   },
   "file_extension": ".py",
   "mimetype": "text/x-python",
   "name": "python",
   "nbconvert_exporter": "python",
   "pygments_lexer": "ipython3",
   "version": "3.7.3"
  }
 },
 "nbformat": 4,
 "nbformat_minor": 2
}
