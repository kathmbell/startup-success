{
 "cells": [
  {
   "cell_type": "code",
   "execution_count": 1,
   "metadata": {},
   "outputs": [],
   "source": [
    "# Import the usual suspects. Any new functions will be introduced individually for clarity.\n",
    "import pandas as pd\n",
    "import numpy as np\n",
    "\n",
    "from sklearn.model_selection import train_test_split, RandomizedSearchCV\n",
    "from sklearn.metrics import accuracy_score, confusion_matrix\n",
    "from sklearn.datasets import make_classification #generates a random classification problem\n",
    "from sklearn.naive_bayes import GaussianNB\n",
    "from sklearn.svm import LinearSVC, SVC\n",
    "from xgboost import XGBClassifier\n",
    "from collections import Counter\n",
    "\n",
    "import matplotlib.pyplot as plt\n",
    "import seaborn as sns\n",
    "from mlxtend.plotting import plot_decision_regions #plotting regions\n",
    "%matplotlib inline\n",
    "\n",
    "from sklearn.neighbors import KNeighborsClassifier\n",
    "from sklearn import metrics\n",
    "\n",
    "from sklearn.tree import DecisionTreeClassifier, DecisionTreeRegressor\n",
    "from sklearn.ensemble import (RandomForestClassifier, ExtraTreesClassifier, VotingClassifier, \n",
    "                              AdaBoostClassifier, BaggingRegressor)\n",
    "\n",
    "from sklearn.svm import SVC\n",
    "from sklearn.neighbors import KNeighborsClassifier\n",
    "from sklearn.naive_bayes import GaussianNB, MultinomialNB, BernoulliNB\n",
    "from sklearn.linear_model import LogisticRegression\n",
    "from sklearn.metrics import accuracy_score, make_scorer\n",
    "from sklearn.model_selection import train_test_split, GridSearchCV, cross_validate\n",
    "from sklearn.datasets.california_housing import fetch_california_housing\n",
    "import sklearn.linear_model\n",
    "from sklearn.naive_bayes import GaussianNB\n",
    "from sklearn import svm\n",
    "import sklearn.svm\n",
    "\n",
    "\n",
    "# make prettier plots\n",
    "# %config InlineBackend.figure_format = 'svg' "
   ]
  },
  {
   "cell_type": "code",
   "execution_count": 2,
   "metadata": {},
   "outputs": [],
   "source": [
    "df = pd.read_pickle(\"./raw_data.pkl\")"
   ]
  },
  {
   "cell_type": "code",
   "execution_count": 3,
   "metadata": {},
   "outputs": [],
   "source": [
    "# df = df[pd.notnull(df['last_funding_amount'])]"
   ]
  },
  {
   "cell_type": "code",
   "execution_count": 4,
   "metadata": {},
   "outputs": [],
   "source": [
    "# df['days_since_last_funding'] = df['days_since_last_funding'].astype(int)"
   ]
  },
  {
   "cell_type": "code",
   "execution_count": 5,
   "metadata": {},
   "outputs": [],
   "source": [
    "# df = df.fillna(0)"
   ]
  },
  {
   "cell_type": "code",
   "execution_count": 6,
   "metadata": {},
   "outputs": [],
   "source": [
    "X = df.loc[:, df.columns != 'target']\n",
    "y = df.target"
   ]
  },
  {
   "cell_type": "code",
   "execution_count": 7,
   "metadata": {},
   "outputs": [
    {
     "name": "stdout",
     "output_type": "stream",
     "text": [
      "(7245, 55)\n",
      "0    7020\n",
      "1     225\n",
      "Name: target, dtype: int64\n"
     ]
    }
   ],
   "source": [
    "print(X.shape)\n",
    "print(y.value_counts())"
   ]
  },
  {
   "cell_type": "markdown",
   "metadata": {},
   "source": [
    "#### Split"
   ]
  },
  {
   "cell_type": "code",
   "execution_count": 8,
   "metadata": {},
   "outputs": [],
   "source": [
    "X_train, X_test, y_train, y_test = train_test_split(X,y , test_size=0.2, random_state=42)\n",
    "X_train, X_val, y_train, y_val = train_test_split(X_train,y_train , test_size=0.25, random_state=42)"
   ]
  },
  {
   "cell_type": "code",
   "execution_count": 9,
   "metadata": {},
   "outputs": [],
   "source": [
    "clf = XGBClassifier().fit(X_train, y_train)\n",
    "y_pred = clf.predict(X_val)"
   ]
  },
  {
   "cell_type": "code",
   "execution_count": 10,
   "metadata": {},
   "outputs": [
    {
     "name": "stdout",
     "output_type": "stream",
     "text": [
      "0.5116279069767442\n"
     ]
    }
   ],
   "source": [
    "recall = metrics.recall_score(y_val,y_pred)\n",
    "print(recall)"
   ]
  },
  {
   "cell_type": "markdown",
   "metadata": {},
   "source": [
    "#### KNN"
   ]
  },
  {
   "cell_type": "code",
   "execution_count": 11,
   "metadata": {},
   "outputs": [],
   "source": [
    "knn_param = {'n_neighbors' : range(1,100), 'algorithm':['auto', 'ball_tree','kd_tree','brute'], \n",
    "             'weights':['uniform', 'distance']}"
   ]
  },
  {
   "cell_type": "code",
   "execution_count": 12,
   "metadata": {},
   "outputs": [
    {
     "name": "stdout",
     "output_type": "stream",
     "text": [
      "0.5928554996877977\n",
      "{'weights': 'distance', 'n_neighbors': 61, 'algorithm': 'brute'}\n"
     ]
    }
   ],
   "source": [
    "knn = KNeighborsClassifier()\n",
    "rand_search = RandomizedSearchCV(knn,knn_param, cv=5,scoring='recall',iid=True)\n",
    "rand_search.fit(X_train, y_train)\n",
    "print(rand_search.best_score_)\n",
    "print(rand_search.best_params_)"
   ]
  },
  {
   "cell_type": "code",
   "execution_count": 13,
   "metadata": {},
   "outputs": [
    {
     "name": "stdout",
     "output_type": "stream",
     "text": [
      "Accuracy Score: 0.9710144927536232\n",
      "Recall Score: 0.5116279069767442\n",
      "F1 Score: 0.5116279069767442\n"
     ]
    }
   ],
   "source": [
    "# Train on training set, and Test on testing set\n",
    "knn = KNeighborsClassifier(n_neighbors=25, weights = 'distance', algorithm='ball_tree')\n",
    "knn.fit(X_train, y_train)\n",
    "y_pred = knn.predict(X_val)\n",
    "\n",
    "print(f\"Accuracy Score: {metrics.accuracy_score(y_val, y_pred)}\")\n",
    "print(f\"Recall Score: {metrics.recall_score(y_val,y_pred)}\")\n",
    "print(f\"F1 Score: {metrics.f1_score(y_val,y_pred)}\")"
   ]
  },
  {
   "cell_type": "markdown",
   "metadata": {},
   "source": [
    "#### Decision Tree"
   ]
  },
  {
   "cell_type": "code",
   "execution_count": 14,
   "metadata": {},
   "outputs": [],
   "source": [
    "decision_tree_param = {\"class_weight\": ['balanced',None],\"max_depth\": [3, None],\n",
    "              \"max_features\": ['auto','sqrt','log2'],\n",
    "              \"min_samples_split\": range(10,500,10),\n",
    "              \"criterion\": [\"gini\", \"entropy\"],\n",
    "                       'max_depth':range(1,10,2),\n",
    "                      'random_state': [42]}"
   ]
  },
  {
   "cell_type": "code",
   "execution_count": 15,
   "metadata": {},
   "outputs": [
    {
     "name": "stdout",
     "output_type": "stream",
     "text": [
      "0.8571346412961319\n",
      "{'random_state': 42, 'min_samples_split': 10, 'max_features': 'auto', 'max_depth': 5, 'criterion': 'gini', 'class_weight': 'balanced'}\n"
     ]
    }
   ],
   "source": [
    "decision_tree = DecisionTreeClassifier()\n",
    "rand_search = RandomizedSearchCV(decision_tree, decision_tree_param, cv=5,scoring='recall',iid=True)\n",
    "\n",
    "rand_search.fit(X_train, y_train)\n",
    "print(rand_search.best_score_)\n",
    "print(rand_search.best_params_)"
   ]
  },
  {
   "cell_type": "code",
   "execution_count": 16,
   "metadata": {},
   "outputs": [
    {
     "name": "stdout",
     "output_type": "stream",
     "text": [
      "Accuracy Score: 0.8992408557625949\n",
      "Recall Score: 0.813953488372093\n",
      "F1 Score: 0.32407407407407407\n"
     ]
    }
   ],
   "source": [
    "decision_tree = DecisionTreeClassifier(criterion='entropy',class_weight='balanced'\n",
    "                                       ,random_state = 42, max_features = 'sqrt', min_samples_leaf = 2\n",
    "                                       ,min_samples_split = 400, max_depth = 9)\n",
    "decision_tree.fit(X_train, y_train)\n",
    "y_pred = decision_tree.predict(X_val)\n",
    "\n",
    "\n",
    "print(f\"Accuracy Score: {metrics.accuracy_score(y_val, y_pred)}\")\n",
    "print(f\"Recall Score: {metrics.recall_score(y_val,y_pred)}\")\n",
    "print(f\"F1 Score: {metrics.f1_score(y_val,y_pred)}\")\n"
   ]
  },
  {
   "cell_type": "markdown",
   "metadata": {},
   "source": [
    "#### Logistic Regression"
   ]
  },
  {
   "cell_type": "code",
   "execution_count": 17,
   "metadata": {},
   "outputs": [],
   "source": [
    "logistic_regression_param = {\"C\":np.logspace(-4, 4, 20), \"penalty\":[\"l2\"]}"
   ]
  },
  {
   "cell_type": "code",
   "execution_count": 18,
   "metadata": {},
   "outputs": [
    {
     "name": "stdout",
     "output_type": "stream",
     "text": [
      "0.14285714285714285\n",
      "{'penalty': 'l2', 'C': 0.00026366508987303583}\n"
     ]
    }
   ],
   "source": [
    "logistic_regression = LogisticRegression(solver=\"lbfgs\")\n",
    "rand_search = RandomizedSearchCV(logistic_regression, logistic_regression_param, cv=5,scoring='recall',iid=True)\n",
    "\n",
    "rand_search.fit(X_train, y_train)\n",
    "print(rand_search.best_score_)\n",
    "print(rand_search.best_params_)"
   ]
  },
  {
   "cell_type": "code",
   "execution_count": 19,
   "metadata": {},
   "outputs": [
    {
     "name": "stdout",
     "output_type": "stream",
     "text": [
      "Accuracy Score: 0.9675638371290545\n",
      "Recall Score: 0.13953488372093023\n",
      "F1 Score: 0.20338983050847456\n"
     ]
    },
    {
     "name": "stderr",
     "output_type": "stream",
     "text": [
      "/Users/kathmbell/anaconda3/lib/python3.7/site-packages/sklearn/linear_model/logistic.py:433: FutureWarning: Default solver will be changed to 'lbfgs' in 0.22. Specify a solver to silence this warning.\n",
      "  FutureWarning)\n"
     ]
    }
   ],
   "source": [
    "logistic_regression = LogisticRegression(penalty= 'l2', C=1.623776739188721)\n",
    "logistic_regression.fit(X_train, y_train)\n",
    "y_pred = logistic_regression.predict(X_val)\n",
    "\n",
    "print(f\"Accuracy Score: {metrics.accuracy_score(y_val, y_pred)}\")\n",
    "print(f\"Recall Score: {metrics.recall_score(y_val,y_pred)}\")\n",
    "print(f\"F1 Score: {metrics.f1_score(y_val,y_pred)}\")"
   ]
  },
  {
   "cell_type": "markdown",
   "metadata": {},
   "source": [
    "#### Random Forest"
   ]
  },
  {
   "cell_type": "code",
   "execution_count": 20,
   "metadata": {},
   "outputs": [],
   "source": [
    "random_forest_param = {'n_estimators': [4,5,6,7,8, 9], \n",
    "              'max_features': ['log2', 'sqrt','auto',None],\n",
    "              'criterion': ['entropy', 'gini'], \n",
    "              'max_depth': [2, 3, 5, 10], \n",
    "              'min_samples_split': [2, 3, 5],\n",
    "              'min_samples_leaf': [1,5,8], 'class_weight' : ['balanced','balanced_subsample', None]}\n"
   ]
  },
  {
   "cell_type": "code",
   "execution_count": 21,
   "metadata": {},
   "outputs": [
    {
     "name": "stdout",
     "output_type": "stream",
     "text": [
      "0.8428390679943476\n",
      "{'n_estimators': 4, 'min_samples_split': 5, 'min_samples_leaf': 8, 'max_features': None, 'max_depth': 3, 'criterion': 'gini', 'class_weight': 'balanced'}\n"
     ]
    }
   ],
   "source": [
    "random_forest = RandomForestClassifier(n_jobs = -1)\n",
    "rand_search = RandomizedSearchCV(random_forest, random_forest_param, cv=5,scoring='recall',iid=True)\n",
    "\n",
    "rand_search.fit(X_train, y_train)\n",
    "print(rand_search.best_score_)\n",
    "print(rand_search.best_params_)"
   ]
  },
  {
   "cell_type": "code",
   "execution_count": 22,
   "metadata": {},
   "outputs": [
    {
     "name": "stdout",
     "output_type": "stream",
     "text": [
      "Accuracy Score: 0.9675638371290545\n",
      "Recall Score: 0.13953488372093023\n",
      "F1 Score: 0.20338983050847456\n"
     ]
    }
   ],
   "source": [
    "random_forest = RandomForestClassifier(n_estimators= 7, min_samples_split=5\n",
    "                                       ,min_samples_leaf= 8, max_features= 'log2'\n",
    "                                       , max_depth= 10, criterion= 'entropy'\n",
    "                                       ,class_weight='balanced_subsample')\n",
    "random_forest.fit(X_train, y_train)\n",
    "y_pred_adasyn = random_forest.predict(X_val)\n",
    "\n",
    "print(f\"Accuracy Score: {metrics.accuracy_score(y_val, y_pred)}\")\n",
    "print(f\"Recall Score: {metrics.recall_score(y_val,y_pred)}\")\n",
    "print(f\"F1 Score: {metrics.f1_score(y_val,y_pred)}\")"
   ]
  },
  {
   "cell_type": "markdown",
   "metadata": {},
   "source": [
    "#### Support Vector Machine"
   ]
  },
  {
   "cell_type": "code",
   "execution_count": 25,
   "metadata": {},
   "outputs": [],
   "source": [
    "svc_model_param = {'kernel':['linear', 'poly', 'rbf','sigmoid']\n",
    "                   ,'gamma':[0.1, 1, 10, 100]\n",
    "                   ,'C':[0.1, 1, 10, 100, 1000]\n",
    "                   , 'degree':[0, 1, 2, 3, 4, 5, 6]}\n"
   ]
  },
  {
   "cell_type": "code",
   "execution_count": null,
   "metadata": {},
   "outputs": [],
   "source": [
    "svc_model = svm.SVC()\n",
    "rand_search = RandomizedSearchCV(svc_model, svc_model_param, cv=5,scoring='recall',iid=True)\n",
    "\n",
    "rand_search.fit(X_train, y_train)\n",
    "print(rand_search.best_score_)\n",
    "print(rand_search.best_params_)\n"
   ]
  },
  {
   "cell_type": "code",
   "execution_count": null,
   "metadata": {},
   "outputs": [],
   "source": [
    "svc_model = svm.SCV()\n",
    "\n",
    "scv_model.fit(X_train, y_train)\n",
    "y_pred = scv_model.predict(X_val)\n",
    "\n",
    "print(f\"Accuracy Score: {metrics.accuracy_score(y_val, y_pred)}\")\n",
    "print(f\"Recall Score: {metrics.recall_score(y_val,y_pred)}\")\n",
    "print(f\"F1 Score: {metrics.f1_score(y_val,y_pred)}\")"
   ]
  }
 ],
 "metadata": {
  "kernelspec": {
   "display_name": "Python 3",
   "language": "python",
   "name": "python3"
  },
  "language_info": {
   "codemirror_mode": {
    "name": "ipython",
    "version": 3
   },
   "file_extension": ".py",
   "mimetype": "text/x-python",
   "name": "python",
   "nbconvert_exporter": "python",
   "pygments_lexer": "ipython3",
   "version": "3.7.3"
  }
 },
 "nbformat": 4,
 "nbformat_minor": 2
}
