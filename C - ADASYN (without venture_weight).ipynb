{
 "cells": [
  {
   "cell_type": "code",
   "execution_count": 1,
   "metadata": {},
   "outputs": [
    {
     "name": "stderr",
     "output_type": "stream",
     "text": [
      "Using TensorFlow backend.\n"
     ]
    }
   ],
   "source": [
    "# Import the usual suspects. Any new functions will be introduced individually for clarity.\n",
    "import pandas as pd\n",
    "import numpy as np\n",
    "\n",
    "from sklearn.model_selection import train_test_split, RandomizedSearchCV\n",
    "from sklearn.metrics import accuracy_score, confusion_matrix\n",
    "from sklearn.datasets import make_classification #generates a random classification problem\n",
    "from sklearn.naive_bayes import GaussianNB\n",
    "from sklearn.svm import LinearSVC, SVC\n",
    "from xgboost import XGBClassifier\n",
    "from collections import Counter\n",
    "\n",
    "import matplotlib.pyplot as plt\n",
    "import seaborn as sns\n",
    "from mlxtend.plotting import plot_decision_regions #plotting regions\n",
    "%matplotlib inline\n",
    "\n",
    "from sklearn.neighbors import KNeighborsClassifier\n",
    "from sklearn import metrics\n",
    "\n",
    "from sklearn.tree import DecisionTreeClassifier, DecisionTreeRegressor\n",
    "from sklearn.ensemble import (RandomForestClassifier, ExtraTreesClassifier, VotingClassifier, \n",
    "                              AdaBoostClassifier, BaggingRegressor)\n",
    "\n",
    "from sklearn.svm import SVC\n",
    "from sklearn.neighbors import KNeighborsClassifier\n",
    "from sklearn.naive_bayes import GaussianNB, MultinomialNB, BernoulliNB\n",
    "from sklearn.linear_model import LogisticRegression\n",
    "from sklearn.metrics import accuracy_score, make_scorer\n",
    "from sklearn.model_selection import train_test_split, GridSearchCV, cross_validate\n",
    "from sklearn.datasets.california_housing import fetch_california_housing\n",
    "import sklearn.linear_model\n",
    "from sklearn.naive_bayes import GaussianNB\n",
    "from sklearn import svm\n",
    "import sklearn.svm\n",
    "from imblearn.over_sampling import ADASYN\n",
    "\n",
    "# make prettier plots\n",
    "# %config InlineBackend.figure_format = 'svg' "
   ]
  },
  {
   "cell_type": "code",
   "execution_count": 2,
   "metadata": {},
   "outputs": [],
   "source": [
    "df = pd.read_pickle(\"./raw_data.pkl\")"
   ]
  },
  {
   "cell_type": "code",
   "execution_count": 3,
   "metadata": {},
   "outputs": [],
   "source": [
    "X = df.loc[:, df.columns != 'target']\n",
    "y = df.target"
   ]
  },
  {
   "cell_type": "code",
   "execution_count": null,
   "metadata": {},
   "outputs": [],
   "source": [
    "df.drop(columns=('top_100_count'))\n"
   ]
  },
  {
   "cell_type": "markdown",
   "metadata": {},
   "source": [
    "#### Create ADASYN"
   ]
  },
  {
   "cell_type": "code",
   "execution_count": 6,
   "metadata": {},
   "outputs": [],
   "source": [
    "X_adasyn, y_adasyn = ADASYN(random_state=42).fit_sample(X,y)"
   ]
  },
  {
   "cell_type": "code",
   "execution_count": 7,
   "metadata": {},
   "outputs": [],
   "source": [
    "X_train_adasyn, X_test_adasyn, y_train_adasyn, y_test_adasyn = train_test_split(X_adasyn,y_adasyn \n",
    "                                                                                , test_size=0.2\n",
    "                                                                                , random_state=42)\n",
    "\n",
    "X_train_adasyn, X_val_adasyn, y_train_adasyn, y_val_adasyn = train_test_split(X_train_adasyn\n",
    "                                                                              ,y_train_adasyn \n",
    "                                                                              , test_size=0.25\n",
    "                                                                              , random_state=42)"
   ]
  },
  {
   "cell_type": "code",
   "execution_count": 8,
   "metadata": {},
   "outputs": [
    {
     "data": {
      "text/plain": [
       "Counter({0: 7020, 1: 7021})"
      ]
     },
     "execution_count": 8,
     "metadata": {},
     "output_type": "execute_result"
    }
   ],
   "source": [
    "Counter(y_adasyn)"
   ]
  },
  {
   "cell_type": "markdown",
   "metadata": {},
   "source": [
    "#### XGBoost"
   ]
  },
  {
   "cell_type": "code",
   "execution_count": 17,
   "metadata": {},
   "outputs": [],
   "source": [
    "clf = XGBClassifier().fit(X_train_adasyn, y_train_adasyn)\n",
    "y_pred_adasyn = clf.predict(X_val_adasyn)"
   ]
  },
  {
   "cell_type": "code",
   "execution_count": 20,
   "metadata": {},
   "outputs": [
    {
     "name": "stdout",
     "output_type": "stream",
     "text": [
      "Recall Score: 0.995053003533569\n",
      "FBeta: 0.9872947877983895\n"
     ]
    }
   ],
   "source": [
    "recall = metrics.recall_score(y_val_adasyn,y_pred_adasyn)\n",
    "print(f\"Recall Score: {recall}\")\n",
    "print(f\"FBeta: {metrics.fbeta_score(y_val_adasyn, y_pred_adasyn, average='macro', beta=0.4)}\")\n",
    "      "
   ]
  },
  {
   "cell_type": "markdown",
   "metadata": {},
   "source": [
    "#### KNN"
   ]
  },
  {
   "cell_type": "code",
   "execution_count": 11,
   "metadata": {},
   "outputs": [],
   "source": [
    "knn_param = {'n_neighbors' : range(1,100), 'algorithm':['auto', 'ball_tree','kd_tree','brute'], \n",
    "             'weights':['uniform', 'distance']}"
   ]
  },
  {
   "cell_type": "code",
   "execution_count": 12,
   "metadata": {},
   "outputs": [
    {
     "name": "stdout",
     "output_type": "stream",
     "text": [
      "0.9265336031222889\n",
      "{'weights': 'distance', 'n_neighbors': 27, 'algorithm': 'brute'}\n"
     ]
    }
   ],
   "source": [
    "knn = KNeighborsClassifier()\n",
    "rand_search = RandomizedSearchCV(knn,knn_param, cv=5,scoring='recall',iid=True)\n",
    "rand_search.fit(X_train_adasyn, y_train_adasyn)\n",
    "print(rand_search.best_score_)\n",
    "print(rand_search.best_params_)"
   ]
  },
  {
   "cell_type": "code",
   "execution_count": 21,
   "metadata": {},
   "outputs": [
    {
     "name": "stdout",
     "output_type": "stream",
     "text": [
      "Accuracy Score: 0.9205840455840456\n",
      "Recall Score: 0.9321554770318021\n",
      "F1 Score: 0.9220552254456483\n",
      "FBeta: 0.9207416272485827\n"
     ]
    }
   ],
   "source": [
    "# Train on training set, and Test on testing set\n",
    "knn = KNeighborsClassifier(n_neighbors=27, weights = 'distance', algorithm='brute')\n",
    "knn.fit(X_train_adasyn, y_train_adasyn)\n",
    "y_pred_adasyn = knn.predict(X_val_adasyn)\n",
    "\n",
    "print(f\"Accuracy Score: {metrics.accuracy_score(y_val_adasyn, y_pred_adasyn)}\")\n",
    "print(f\"Recall Score: {metrics.recall_score(y_val_adasyn,y_pred_adasyn)}\")\n",
    "print(f\"F1 Score: {metrics.f1_score(y_val_adasyn,y_pred_adasyn)}\")\n",
    "print(f\"FBeta: {metrics.fbeta_score(y_val_adasyn, y_pred_adasyn, average='macro', beta=0.4)}\")"
   ]
  },
  {
   "cell_type": "markdown",
   "metadata": {},
   "source": [
    "#### Decision Tree"
   ]
  },
  {
   "cell_type": "code",
   "execution_count": 14,
   "metadata": {},
   "outputs": [],
   "source": [
    "decision_tree_param = {\"class_weight\": ['balanced',None],\"max_depth\": [3, None],\n",
    "              \"max_features\": ['auto','sqrt','log2'],\n",
    "              \"min_samples_split\": range(10,500,10),\n",
    "              \"criterion\": [\"gini\", \"entropy\"],\n",
    "                       'max_depth':range(1,10,2),\n",
    "                      'random_state': [42]}\n",
    "\n"
   ]
  },
  {
   "cell_type": "code",
   "execution_count": 15,
   "metadata": {},
   "outputs": [
    {
     "name": "stdout",
     "output_type": "stream",
     "text": [
      "0.9462660175792941\n",
      "{'random_state': 42, 'min_samples_split': 430, 'max_features': 'auto', 'max_depth': 9, 'criterion': 'entropy', 'class_weight': None}\n"
     ]
    }
   ],
   "source": [
    "decision_tree = DecisionTreeClassifier()\n",
    "rand_search = RandomizedSearchCV(decision_tree, decision_tree_param, cv=5,scoring='recall',iid=True)\n",
    "\n",
    "rand_search.fit(X_train_adasyn, y_train_adasyn)\n",
    "print(rand_search.best_score_)\n",
    "print(rand_search.best_params_)"
   ]
  },
  {
   "cell_type": "code",
   "execution_count": 22,
   "metadata": {},
   "outputs": [
    {
     "name": "stdout",
     "output_type": "stream",
     "text": [
      "Accuracy Score: 0.8963675213675214\n",
      "Recall Score: 0.9250883392226148\n",
      "F1 Score: 0.8999656239257476\n",
      "FBeta: 0.8971889972456903\n"
     ]
    }
   ],
   "source": [
    "decision_tree = DecisionTreeClassifier(criterion='entropy',class_weight= None\n",
    "                                       ,random_state = 42, max_features = 'auto', min_samples_leaf = 2\n",
    "                                       ,min_samples_split = 430\n",
    "                                       ,max_depth = 9)\n",
    "decision_tree.fit(X_train_adasyn, y_train_adasyn)\n",
    "y_pred_adasyn = decision_tree.predict(X_val_adasyn)\n",
    "\n",
    "\n",
    "print(f\"Accuracy Score: {metrics.accuracy_score(y_val_adasyn, y_pred_adasyn)}\")\n",
    "print(f\"Recall Score: {metrics.recall_score(y_val_adasyn,y_pred_adasyn)}\")\n",
    "print(f\"F1 Score: {metrics.f1_score(y_val_adasyn,y_pred_adasyn)}\")\n",
    "print(f\"FBeta: {metrics.fbeta_score(y_val_adasyn, y_pred_adasyn, average='macro', beta=0.4)}\")\n"
   ]
  },
  {
   "cell_type": "markdown",
   "metadata": {},
   "source": [
    "#### Logistic Regression"
   ]
  },
  {
   "cell_type": "code",
   "execution_count": 23,
   "metadata": {},
   "outputs": [],
   "source": [
    "logistic_regression_param = {\"C\":np.logspace(-4, 4, 20), \"penalty\":[\"l2\"]}\n"
   ]
  },
  {
   "cell_type": "code",
   "execution_count": 24,
   "metadata": {},
   "outputs": [
    {
     "name": "stdout",
     "output_type": "stream",
     "text": [
      "0.9360496163771823\n",
      "{'penalty': 'l2', 'C': 10000.0}\n"
     ]
    }
   ],
   "source": [
    "logistic_regression = LogisticRegression(solver=\"lbfgs\")\n",
    "rand_search = RandomizedSearchCV(logistic_regression, logistic_regression_param, cv=5,scoring='recall',iid=True)\n",
    "\n",
    "rand_search.fit(X_train_adasyn, y_train_adasyn)\n",
    "print(rand_search.best_score_)\n",
    "print(rand_search.best_params_)"
   ]
  },
  {
   "cell_type": "code",
   "execution_count": 25,
   "metadata": {},
   "outputs": [
    {
     "name": "stdout",
     "output_type": "stream",
     "text": [
      "Accuracy Score: 0.7183048433048433\n",
      "Recall Score: 0.9194346289752651\n",
      "F1 Score: 0.7668729737695256\n",
      "FBeta: 0.736729212689692\n"
     ]
    },
    {
     "name": "stderr",
     "output_type": "stream",
     "text": [
      "/Users/kathmbell/anaconda3/lib/python3.7/site-packages/sklearn/linear_model/logistic.py:433: FutureWarning: Default solver will be changed to 'lbfgs' in 0.22. Specify a solver to silence this warning.\n",
      "  FutureWarning)\n"
     ]
    }
   ],
   "source": [
    "logistic_regression = LogisticRegression(penalty= 'l2', C=0.0001)\n",
    "logistic_regression.fit(X_train_adasyn, y_train_adasyn)\n",
    "y_pred_adasyn = logistic_regression.predict(X_val_adasyn)\n",
    "\n",
    "print(f\"Accuracy Score: {metrics.accuracy_score(y_val_adasyn, y_pred_adasyn)}\")\n",
    "print(f\"Recall Score: {metrics.recall_score(y_val_adasyn,y_pred_adasyn)}\")\n",
    "print(f\"F1 Score: {metrics.f1_score(y_val_adasyn,y_pred_adasyn)}\")\n",
    "print(f\"FBeta: {metrics.fbeta_score(y_val_adasyn, y_pred_adasyn, average='macro', beta=0.4)}\")"
   ]
  },
  {
   "cell_type": "markdown",
   "metadata": {},
   "source": [
    "#### Random Forest"
   ]
  },
  {
   "cell_type": "code",
   "execution_count": 26,
   "metadata": {},
   "outputs": [],
   "source": [
    "random_forest_param = {'n_estimators': [4,5,6,7,8, 9], \n",
    "              'max_features': ['log2', 'sqrt','auto',None],\n",
    "              'criterion': ['entropy', 'gini'], \n",
    "              'max_depth': [2, 3, 5, 10], \n",
    "              'min_samples_split': [2, 3, 5],\n",
    "              'min_samples_leaf': [1,5,8], 'class_weight' : ['balanced','balanced_subsample', None]}\n"
   ]
  },
  {
   "cell_type": "code",
   "execution_count": 27,
   "metadata": {},
   "outputs": [
    {
     "name": "stdout",
     "output_type": "stream",
     "text": [
      "0.9824061709734895\n",
      "{'n_estimators': 4, 'min_samples_split': 5, 'min_samples_leaf': 5, 'max_features': 'auto', 'max_depth': 10, 'criterion': 'entropy', 'class_weight': None}\n"
     ]
    }
   ],
   "source": [
    "random_forest = RandomForestClassifier(n_jobs = -1)\n",
    "rand_search = RandomizedSearchCV(random_forest, random_forest_param, cv=5,scoring='recall',iid=True)\n",
    "\n",
    "rand_search.fit(X_train_adasyn, y_train_adasyn)\n",
    "print(rand_search.best_score_)\n",
    "print(rand_search.best_params_)"
   ]
  },
  {
   "cell_type": "code",
   "execution_count": 28,
   "metadata": {},
   "outputs": [
    {
     "name": "stdout",
     "output_type": "stream",
     "text": [
      "Accuracy Score: 0.9732905982905983\n",
      "Recall Score: 0.9858657243816255\n",
      "F1 Score: 0.9738219895287958\n",
      "FBeta: 0.9735325236069964\n"
     ]
    }
   ],
   "source": [
    "random_forest = RandomForestClassifier(n_estimators= 4, min_samples_split=3\n",
    "                                       ,min_samples_leaf= 5, max_features= None, max_depth= 10\n",
    "                                       , criterion= 'gini'\n",
    "                                       ,class_weight='balanced_subsample')\n",
    "\n",
    "random_forest.fit(X_train_adasyn, y_train_adasyn)\n",
    "y_pred_adasyn = random_forest.predict(X_val_adasyn)\n",
    "\n",
    "print(f\"Accuracy Score: {metrics.accuracy_score(y_val_adasyn, y_pred_adasyn)}\")\n",
    "print(f\"Recall Score: {metrics.recall_score(y_val_adasyn,y_pred_adasyn)}\")\n",
    "print(f\"F1 Score: {metrics.f1_score(y_val_adasyn,y_pred_adasyn)}\")\n",
    "print(f\"FBeta: {metrics.fbeta_score(y_val_adasyn, y_pred_adasyn, average='macro', beta=0.4)}\")"
   ]
  },
  {
   "cell_type": "markdown",
   "metadata": {},
   "source": [
    "#### SVC Model"
   ]
  },
  {
   "cell_type": "code",
   "execution_count": null,
   "metadata": {},
   "outputs": [],
   "source": [
    "svc_model_param = {'kernel':['linear', 'poly', 'rbf','sigmoid']\n",
    "                   ,'gamma':[0.1, 1, 10, 100]\n",
    "                   ,'C':[0.1, 1, 10, 100, 1000]\n",
    "                   , 'degree':[0, 1, 2, 3, 4, 5, 6]}\n"
   ]
  },
  {
   "cell_type": "code",
   "execution_count": null,
   "metadata": {},
   "outputs": [],
   "source": [
    "svc_model = svm.SVC()\n",
    "rand_search = RandomizedSearchCV(svc_model, svc_model_param, cv=5,scoring='recall',iid=True)\n",
    "\n",
    "rand_search.fit(X_train_adasyn, y_train_adasyn)\n",
    "print(rand_search.best_score_)\n",
    "print(rand_search.best_params_)"
   ]
  },
  {
   "cell_type": "code",
   "execution_count": null,
   "metadata": {},
   "outputs": [],
   "source": [
    "svc_model = svm.SCV()\n",
    "\n",
    "scv_model.fit(X_train_adasyn, y_train_adasyn)\n",
    "y_pred_adasyn = scv_model.predict(X_val_adasyn)\n",
    "\n",
    "print(f\"Accuracy Score: {metrics.accuracy_score(y_val_adasyn, y_pred_adasyn)}\")\n",
    "print(f\"Recall Score: {metrics.recall_score(y_val_adasyn,y_pred_adasyn)}\")\n",
    "print(f\"F1 Score: {metrics.f1_score(y_val_adasyn,y_pred_adasyn)}\")\n",
    "print(f\"FBeta: {metrics.fbeta_score(y_val_adasyn, y_pred_adasyn, average='macro', beta=0.4)}\")"
   ]
  }
 ],
 "metadata": {
  "kernelspec": {
   "display_name": "Python 3",
   "language": "python",
   "name": "python3"
  },
  "language_info": {
   "codemirror_mode": {
    "name": "ipython",
    "version": 3
   },
   "file_extension": ".py",
   "mimetype": "text/x-python",
   "name": "python",
   "nbconvert_exporter": "python",
   "pygments_lexer": "ipython3",
   "version": "3.7.3"
  }
 },
 "nbformat": 4,
 "nbformat_minor": 2
}
