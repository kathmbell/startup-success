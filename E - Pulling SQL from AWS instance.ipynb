{
 "cells": [
  {
   "cell_type": "code",
   "execution_count": 3,
   "metadata": {},
   "outputs": [],
   "source": [
    "from psycopg2 import connect\n",
    "from psycopg2.extensions import ISOLATION_LEVEL_AUTOCOMMIT\n",
    "params = {\n",
    "    'host': '54.67.91.180',\n",
    "    'user': 'ubuntu',\n",
    "    'port': 5432\n",
    "}\n",
    "\n",
    "# Connect and create database, disconnect, and reconnect to the right database\n",
    "connection = connect(**params, dbname='ubuntu')\n",
    "connection.set_isolation_level(ISOLATION_LEVEL_AUTOCOMMIT)\n",
    "connection.cursor().execute('CREATE DATABASE store;')\n",
    "connection.close()"
   ]
  },
  {
   "cell_type": "code",
   "execution_count": 6,
   "metadata": {},
   "outputs": [],
   "source": [
    "from sqlalchemy import create_engine\n",
    "\n",
    "connection_string = f'postgres://ubuntu:{params[\"host\"]}@{params[\"host\"]}:{params[\"port\"]}/store'\n",
    "engine = create_engine(connection_string)\n"
   ]
  },
  {
   "cell_type": "code",
   "execution_count": 13,
   "metadata": {
    "scrolled": true
   },
   "outputs": [
    {
     "data": {
      "text/plain": [
       "[('administrative_services', '382'),\n",
       " ('advertising', '1224'),\n",
       " ('agriculture_and_farming', '259'),\n",
       " ('apps', '3380'),\n",
       " ('artificial_intelligence', '4406'),\n",
       " ('biotechnology', '1015'),\n",
       " ('clothing_and_apparel', '442'),\n",
       " ('commerce_and_shopping', '3323'),\n",
       " ('community_and_lifestyle', '1101'),\n",
       " ('consumer_electronics', '2607'),\n",
       " ('consumer_goods', '654'),\n",
       " ('content_and_publishing', '1562'),\n",
       " ('data_and_analytics', '7083'),\n",
       " ('design', '1305'),\n",
       " ('education', '959'),\n",
       " ('energy', '465'),\n",
       " ('events', '458'),\n",
       " ('financial_services', '2148'),\n",
       " ('food_and_beverage', '719'),\n",
       " ('gaming', '608'),\n",
       " ('government_and_military', '226'),\n",
       " ('hardware', '6008'),\n",
       " ('health_care', '2254'),\n",
       " ('information_technology', '5934'),\n",
       " ('internet_services', '7366'),\n",
       " ('lending_and_investments', '480'),\n",
       " ('manufacturing', '745'),\n",
       " ('media_and_entertainment', '4286'),\n",
       " ('messaging_and_telecommunications', '1305'),\n",
       " ('mobile', '5457'),\n",
       " ('music_and_audio', '505'),\n",
       " ('natural_resources', '320'),\n",
       " ('navigation_and_mapping', '631'),\n",
       " ('payments', '1133'),\n",
       " ('platforms', '1101'),\n",
       " ('privacy_and_security', '1431'),\n",
       " ('professional_services', '863'),\n",
       " ('real_estate', '834'),\n",
       " ('sales_and_marketing', '2595'),\n",
       " ('science_and_engineering', '5249'),\n",
       " ('software', '14989'),\n",
       " ('sports', '625'),\n",
       " ('sustainability', '489'),\n",
       " ('transportation', '1314'),\n",
       " ('travel_and_tourism', '503'),\n",
       " ('video', '1135')]"
      ]
     },
     "execution_count": 13,
     "metadata": {},
     "output_type": "execute_result"
    }
   ],
   "source": [
    "connection = connect(**params, dbname='startups')\n",
    "cursor = connection.cursor()\n",
    "cursor.execute(\"SELECT * FROM categories;\")\n",
    "cursor.fetchall()"
   ]
  },
  {
   "cell_type": "code",
   "execution_count": null,
   "metadata": {},
   "outputs": [],
   "source": []
  },
  {
   "cell_type": "code",
   "execution_count": null,
   "metadata": {},
   "outputs": [],
   "source": []
  }
 ],
 "metadata": {
  "kernelspec": {
   "display_name": "Python 3",
   "language": "python",
   "name": "python3"
  },
  "language_info": {
   "codemirror_mode": {
    "name": "ipython",
    "version": 3
   },
   "file_extension": ".py",
   "mimetype": "text/x-python",
   "name": "python",
   "nbconvert_exporter": "python",
   "pygments_lexer": "ipython3",
   "version": "3.7.3"
  }
 },
 "nbformat": 4,
 "nbformat_minor": 2
}
