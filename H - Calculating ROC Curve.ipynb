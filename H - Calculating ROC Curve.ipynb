{
 "cells": [
  {
   "cell_type": "code",
   "execution_count": 1,
   "metadata": {},
   "outputs": [
    {
     "name": "stderr",
     "output_type": "stream",
     "text": [
      "Using TensorFlow backend.\n"
     ]
    }
   ],
   "source": [
    "# - f beta\n",
    "# - predic_proba\n",
    "# - look at categories more likely to succeed\n",
    "# - classifying what stage the startup is on, whether or not you will invest on \n",
    "\n",
    "\n",
    "# Import the usual suspects. Any new functions will be introduced individually for clarity.\n",
    "import pandas as pd\n",
    "import numpy as np\n",
    "\n",
    "from sklearn.model_selection import train_test_split, RandomizedSearchCV\n",
    "from sklearn.metrics import accuracy_score, confusion_matrix\n",
    "from sklearn.datasets import make_classification #generates a random classification problem\n",
    "from sklearn.naive_bayes import GaussianNB\n",
    "from sklearn.svm import LinearSVC, SVC\n",
    "from xgboost import XGBClassifier\n",
    "from collections import Counter\n",
    "\n",
    "import matplotlib.pyplot as plt\n",
    "import seaborn as sns\n",
    "from mlxtend.plotting import plot_decision_regions #plotting regions\n",
    "%matplotlib inline\n",
    "\n",
    "from sklearn.neighbors import KNeighborsClassifier\n",
    "from sklearn import metrics\n",
    "\n",
    "from sklearn.tree import DecisionTreeClassifier, DecisionTreeRegressor\n",
    "from sklearn.ensemble import (RandomForestClassifier, ExtraTreesClassifier, VotingClassifier, \n",
    "                              AdaBoostClassifier, BaggingRegressor)\n",
    "\n",
    "from sklearn.svm import SVC\n",
    "from sklearn.neighbors import KNeighborsClassifier\n",
    "from sklearn.naive_bayes import GaussianNB, MultinomialNB, BernoulliNB\n",
    "from sklearn.linear_model import LogisticRegression\n",
    "from sklearn.metrics import accuracy_score, make_scorer, roc_curve\n",
    "from sklearn.model_selection import train_test_split, GridSearchCV, cross_validate\n",
    "from sklearn.datasets.california_housing import fetch_california_housing\n",
    "import sklearn.linear_model\n",
    "from sklearn.naive_bayes import GaussianNB\n",
    "from sklearn import svm\n",
    "import sklearn.svm\n",
    "from imblearn.over_sampling import ADASYN\n",
    "\n",
    "\n",
    "# make prettier plots\n",
    "# %config InlineBackend.figure_format = 'svg' "
   ]
  },
  {
   "cell_type": "code",
   "execution_count": 2,
   "metadata": {},
   "outputs": [],
   "source": [
    "df = pd.read_pickle(\"./raw_data.pkl\")"
   ]
  },
  {
   "cell_type": "code",
   "execution_count": 3,
   "metadata": {},
   "outputs": [
    {
     "data": {
      "text/plain": [
       "(7245, 55)"
      ]
     },
     "execution_count": 3,
     "metadata": {},
     "output_type": "execute_result"
    }
   ],
   "source": [
    "df = df.drop(columns=('number_of_funding_rounds'))\n",
    "df.shape"
   ]
  },
  {
   "cell_type": "code",
   "execution_count": 4,
   "metadata": {},
   "outputs": [],
   "source": [
    "X = df.loc[:, df.columns != 'target']\n",
    "y = df.target"
   ]
  },
  {
   "cell_type": "markdown",
   "metadata": {},
   "source": [
    "#### Create ADASYN"
   ]
  },
  {
   "cell_type": "code",
   "execution_count": 5,
   "metadata": {},
   "outputs": [],
   "source": [
    "X_adasyn, y_adasyn = ADASYN(random_state=42).fit_sample(X,y)"
   ]
  },
  {
   "cell_type": "code",
   "execution_count": 53,
   "metadata": {},
   "outputs": [],
   "source": [
    "X_train_adasyn, X_test_adasyn, y_train_adasyn, y_test_adasyn = train_test_split(X_adasyn,y_adasyn \n",
    "                                                                                , test_size=0.2\n",
    "                                                                                , random_state=42)\n",
    "\n",
    "X_train_adasyn, X_val_adasyn, y_train_adasyn, y_val_adasyn = train_test_split(X_train_adasyn\n",
    "                                                                              ,y_train_adasyn \n",
    "                                                                              , test_size=0.25\n",
    "                                                                              , random_state=42)"
   ]
  },
  {
   "cell_type": "code",
   "execution_count": 7,
   "metadata": {},
   "outputs": [
    {
     "data": {
      "text/plain": [
       "Counter({0: 7020, 1: 7021})"
      ]
     },
     "execution_count": 7,
     "metadata": {},
     "output_type": "execute_result"
    }
   ],
   "source": [
    "Counter(y_adasyn)"
   ]
  },
  {
   "cell_type": "markdown",
   "metadata": {},
   "source": [
    "#### XGBoost"
   ]
  },
  {
   "cell_type": "code",
   "execution_count": 54,
   "metadata": {},
   "outputs": [],
   "source": [
    "xgb_params = {\n",
    "        'min_child_weight': [1, 5, 10],\n",
    "        'gamma': [0.5, 1, 1.5, 2, 5],\n",
    "        'subsample': [0.6, 0.8, 1.0],\n",
    "        'colsample_bytree': [0.6, 0.8, 1.0],\n",
    "        'max_depth': [3, 4, 5]\n",
    "        }"
   ]
  },
  {
   "cell_type": "code",
   "execution_count": 55,
   "metadata": {},
   "outputs": [
    {
     "name": "stdout",
     "output_type": "stream",
     "text": [
      "0.9926290684995872\n",
      "{'subsample': 0.8, 'min_child_weight': 10, 'max_depth': 5, 'gamma': 1, 'colsample_bytree': 0.8}\n"
     ]
    }
   ],
   "source": [
    "xgb = XGBClassifier()\n",
    "rand_search = RandomizedSearchCV(xgb,xgb_params, cv=5,scoring='recall',iid=True)\n",
    "rand_search.fit(X_train_adasyn, y_train_adasyn)\n",
    "print(rand_search.best_score_)\n",
    "print(rand_search.best_params_)"
   ]
  },
  {
   "cell_type": "code",
   "execution_count": 36,
   "metadata": {},
   "outputs": [],
   "source": [
    "clf = XGBClassifier().fit(X_train_adasyn, y_train_adasyn)\n",
    "y_pred_adasyn = clf.predict(X_val_adasyn)"
   ]
  },
  {
   "cell_type": "code",
   "execution_count": null,
   "metadata": {},
   "outputs": [],
   "source": []
  },
  {
   "cell_type": "code",
   "execution_count": 37,
   "metadata": {},
   "outputs": [],
   "source": [
    "y_pred_proba = clf.predict_proba(X_val_adasyn)[:,1] \n",
    "false_positive_rate_xgboost, true_positive_rate_xgboost, _ = roc_curve(y_val_adasyn,y_pred_proba)\n"
   ]
  },
  {
   "cell_type": "code",
   "execution_count": 17,
   "metadata": {},
   "outputs": [
    {
     "data": {
      "image/png": "[encoded data removed]",
      "text/plain": [
       "<Figure size 432x288 with 1 Axes>"
      ]
     },
     "metadata": {
      "needs_background": "light"
     },
     "output_type": "display_data"
    }
   ],
   "source": [
    "\n",
    "\n",
    "#titles, axis lables\n",
    "#"
   ]
  },
  {
   "cell_type": "code",
   "execution_count": 15,
   "metadata": {},
   "outputs": [
    {
     "name": "stdout",
     "output_type": "stream",
     "text": [
      "Recall: 0.992226148409894\n",
      "FBeta: 0.9861866077600197\n",
      "Precision: 0.9804469273743017\n"
     ]
    }
   ],
   "source": [
    "recall = metrics.recall_score(y_val_adasyn,y_pred_adasyn)\n",
    "print(f\"Recall: {recall}\")\n",
    "print(f\"FBeta: {metrics.fbeta_score(y_val_adasyn, y_pred_adasyn, average='macro', beta=0.4)}\")\n",
    "print(f\"Precision: {metrics.precision_score(y_val_adasyn, y_pred_adasyn)}\")"
   ]
  },
  {
   "cell_type": "code",
   "execution_count": null,
   "metadata": {},
   "outputs": [],
   "source": []
  },
  {
   "cell_type": "markdown",
   "metadata": {},
   "source": [
    "#### KNN"
   ]
  },
  {
   "cell_type": "code",
   "execution_count": 16,
   "metadata": {},
   "outputs": [],
   "source": [
    "knn_param = {'n_neighbors' : range(1,100), 'algorithm':['auto', 'ball_tree','kd_tree','brute'], \n",
    "             'weights':['uniform', 'distance']}"
   ]
  },
  {
   "cell_type": "code",
   "execution_count": 17,
   "metadata": {},
   "outputs": [
    {
     "name": "stdout",
     "output_type": "stream",
     "text": [
      "0.9279597980300919\n",
      "{'weights': 'distance', 'n_neighbors': 13, 'algorithm': 'kd_tree'}\n"
     ]
    }
   ],
   "source": [
    "knn = KNeighborsClassifier()\n",
    "rand_search = RandomizedSearchCV(knn,knn_param, cv=5,scoring='recall',iid=True)\n",
    "rand_search.fit(X_train_adasyn, y_train_adasyn)\n",
    "print(rand_search.best_score_)\n",
    "print(rand_search.best_params_)"
   ]
  },
  {
   "cell_type": "code",
   "execution_count": 23,
   "metadata": {},
   "outputs": [
    {
     "name": "stdout",
     "output_type": "stream",
     "text": [
      "Accuracy Score: 0.9216524216524217\n",
      "Recall Score: 0.9335689045936396\n",
      "F1 Score: 0.923130677847659\n",
      "FBeta: 0.9218201689660476\n",
      "Precision: 0.9441301272984441\n"
     ]
    }
   ],
   "source": [
    "# Train on training set, and Test on testing set\n",
    "knn = KNeighborsClassifier(n_neighbors=13, weights = 'distance', algorithm='kd_tree')\n",
    "knn.fit(X_train_adasyn, y_train_adasyn)\n",
    "y_pred_adasyn_knn = knn.predict(X_val_adasyn)\n",
    "\n",
    "print(f\"Accuracy Score: {metrics.accuracy_score(y_val_adasyn, y_pred_adasyn_knn)}\")\n",
    "print(f\"Recall Score: {metrics.recall_score(y_val_adasyn,y_pred_adasyn_knn)}\")\n",
    "print(f\"F1 Score: {metrics.f1_score(y_val_adasyn,y_pred_adasyn_knn)}\")\n",
    "print(f\"FBeta: {metrics.fbeta_score(y_val_adasyn, y_pred_adasyn_knn, average='macro', beta=0.4)}\")\n",
    "print(f\"Precision: {metrics.precision_score(y_val_adasyn, y_pred_adasyn)}\")\n",
    "      "
   ]
  },
  {
   "cell_type": "code",
   "execution_count": 24,
   "metadata": {},
   "outputs": [],
   "source": [
    "y_pred_proba = knn.predict_proba(X_val_adasyn)[:,1] \n",
    "false_positive_rate_knn, true_positive_rate_knn, _ = roc_curve(y_val_adasyn,y_pred_proba)\n"
   ]
  },
  {
   "cell_type": "markdown",
   "metadata": {},
   "source": [
    "#### Decision Tree"
   ]
  },
  {
   "cell_type": "code",
   "execution_count": 18,
   "metadata": {},
   "outputs": [],
   "source": [
    "decision_tree_param = {\"class_weight\": ['balanced',None],\"max_depth\": [3, None],\n",
    "              \"max_features\": ['auto','sqrt','log2'],\n",
    "              \"min_samples_split\": range(10,500,10),\n",
    "              \"criterion\": [\"gini\", \"entropy\"],\n",
    "                       'max_depth':range(1,10,2),\n",
    "                      'random_state': [42]}\n",
    "\n"
   ]
  },
  {
   "cell_type": "code",
   "execution_count": 19,
   "metadata": {},
   "outputs": [
    {
     "name": "stdout",
     "output_type": "stream",
     "text": [
      "0.9334234831056001\n",
      "{'random_state': 42, 'min_samples_split': 20, 'max_features': 'log2', 'max_depth': 7, 'criterion': 'gini', 'class_weight': None}\n"
     ]
    }
   ],
   "source": [
    "decision_tree = DecisionTreeClassifier()\n",
    "rand_search = RandomizedSearchCV(decision_tree, decision_tree_param, cv=5,scoring='recall',iid=True)\n",
    "\n",
    "rand_search.fit(X_train_adasyn, y_train_adasyn)\n",
    "print(rand_search.best_score_)\n",
    "print(rand_search.best_params_)"
   ]
  },
  {
   "cell_type": "code",
   "execution_count": 30,
   "metadata": {},
   "outputs": [
    {
     "name": "stdout",
     "output_type": "stream",
     "text": [
      "Accuracy Score: 0.9433760683760684\n",
      "Recall Score: 0.9434628975265018\n",
      "F1 Score: 0.9437963944856841\n",
      "FBeta: 0.9433712536832974\n"
     ]
    }
   ],
   "source": [
    "decision_tree = DecisionTreeClassifier(criterion='entropy',class_weight= None\n",
    "                                       ,random_state = 42, max_features = 'auto', min_samples_leaf = 2\n",
    "                                       ,min_samples_split = 10\n",
    "                                       ,max_depth = 9)\n",
    "decision_tree.fit(X_train_adasyn, y_train_adasyn)\n",
    "y_pred_adasyn = decision_tree.predict(X_val_adasyn)\n",
    "\n",
    "\n",
    "print(f\"Accuracy Score: {metrics.accuracy_score(y_val_adasyn, y_pred_adasyn)}\")\n",
    "print(f\"Recall Score: {metrics.recall_score(y_val_adasyn,y_pred_adasyn)}\")\n",
    "print(f\"F1 Score: {metrics.f1_score(y_val_adasyn,y_pred_adasyn)}\")\n",
    "print(f\"FBeta: {metrics.fbeta_score(y_val_adasyn, y_pred_adasyn, average='macro', beta=0.4)}\")"
   ]
  },
  {
   "cell_type": "code",
   "execution_count": 31,
   "metadata": {},
   "outputs": [],
   "source": [
    "y_pred_proba = decision_tree.predict_proba(X_val_adasyn)[:,1] \n",
    "false_positive_rate_decision_tree, true_positive_rate_decision_tree, _ = roc_curve(y_val_adasyn,y_pred_proba)\n"
   ]
  },
  {
   "cell_type": "markdown",
   "metadata": {},
   "source": [
    "#### Logistic Regression"
   ]
  },
  {
   "cell_type": "code",
   "execution_count": 21,
   "metadata": {},
   "outputs": [],
   "source": [
    "logistic_regression_param = {\"C\":np.logspace(-4, 4, 20), \"penalty\":[\"l2\"]}\n"
   ]
  },
  {
   "cell_type": "code",
   "execution_count": 22,
   "metadata": {},
   "outputs": [
    {
     "name": "stdout",
     "output_type": "stream",
     "text": [
      "0.9360496163771823\n",
      "{'penalty': 'l2', 'C': 0.0006951927961775605}\n"
     ]
    }
   ],
   "source": [
    "logistic_regression = LogisticRegression(solver=\"lbfgs\")\n",
    "rand_search = RandomizedSearchCV(logistic_regression, logistic_regression_param, cv=5,scoring='recall',iid=True)\n",
    "\n",
    "rand_search.fit(X_train_adasyn, y_train_adasyn)\n",
    "print(rand_search.best_score_)\n",
    "print(rand_search.best_params_)"
   ]
  },
  {
   "cell_type": "code",
   "execution_count": 28,
   "metadata": {},
   "outputs": [
    {
     "name": "stdout",
     "output_type": "stream",
     "text": [
      "Accuracy Score: 0.7183048433048433\n",
      "Recall Score: 0.9194346289752651\n",
      "F1 Score: 0.7668729737695256\n",
      "FBeta: 0.736729212689692\n"
     ]
    },
    {
     "name": "stderr",
     "output_type": "stream",
     "text": [
      "/Users/kathmbell/anaconda3/lib/python3.7/site-packages/sklearn/linear_model/logistic.py:433: FutureWarning: Default solver will be changed to 'lbfgs' in 0.22. Specify a solver to silence this warning.\n",
      "  FutureWarning)\n"
     ]
    }
   ],
   "source": [
    "logistic_regression = LogisticRegression(penalty= 'l2', C=0.0001)\n",
    "logistic_regression.fit(X_train_adasyn, y_train_adasyn)\n",
    "y_pred_adasyn = logistic_regression.predict(X_val_adasyn)\n",
    "\n",
    "print(f\"Accuracy Score: {metrics.accuracy_score(y_val_adasyn, y_pred_adasyn)}\")\n",
    "print(f\"Recall Score: {metrics.recall_score(y_val_adasyn,y_pred_adasyn)}\")\n",
    "print(f\"F1 Score: {metrics.f1_score(y_val_adasyn,y_pred_adasyn)}\")\n",
    "print(f\"FBeta: {metrics.fbeta_score(y_val_adasyn, y_pred_adasyn, average='macro', beta=0.4)}\")"
   ]
  },
  {
   "cell_type": "code",
   "execution_count": 32,
   "metadata": {},
   "outputs": [],
   "source": [
    "y_pred_proba = logistic_regression.predict_proba(X_val_adasyn)[:,1] \n",
    "false_positive_rate_logisitc, true_positive_rate_logistic, _ = roc_curve(y_val_adasyn,y_pred_proba)\n"
   ]
  },
  {
   "cell_type": "code",
   "execution_count": null,
   "metadata": {},
   "outputs": [],
   "source": []
  },
  {
   "cell_type": "code",
   "execution_count": 31,
   "metadata": {},
   "outputs": [
    {
     "data": {
      "text/html": [
       "<div>\n",
       "<style scoped>\n",
       "    .dataframe tbody tr th:only-of-type {\n",
       "        vertical-align: middle;\n",
       "    }\n",
       "\n",
       "    .dataframe tbody tr th {\n",
       "        vertical-align: top;\n",
       "    }\n",
       "\n",
       "    .dataframe thead th {\n",
       "        text-align: right;\n",
       "    }\n",
       "</style>\n",
       "<table border=\"1\" class=\"dataframe\">\n",
       "  <thead>\n",
       "    <tr style=\"text-align: right;\">\n",
       "      <th></th>\n",
       "      <th>variable</th>\n",
       "      <th>value</th>\n",
       "    </tr>\n",
       "  </thead>\n",
       "  <tbody>\n",
       "    <tr>\n",
       "      <th>0</th>\n",
       "      <td>last_funding_amount</td>\n",
       "      <td>-3.188496e-08</td>\n",
       "    </tr>\n",
       "    <tr>\n",
       "      <th>1</th>\n",
       "      <td>number_of_founders</td>\n",
       "      <td>-3.126630e-12</td>\n",
       "    </tr>\n",
       "    <tr>\n",
       "      <th>2</th>\n",
       "      <td>number_of_investors</td>\n",
       "      <td>-7.086589e-12</td>\n",
       "    </tr>\n",
       "    <tr>\n",
       "      <th>3</th>\n",
       "      <td>number_of_lead_investors</td>\n",
       "      <td>-3.897882e-13</td>\n",
       "    </tr>\n",
       "    <tr>\n",
       "      <th>4</th>\n",
       "      <td>total_funding_amount</td>\n",
       "      <td>2.991418e-08</td>\n",
       "    </tr>\n",
       "    <tr>\n",
       "      <th>5</th>\n",
       "      <td>artificial_intelligence</td>\n",
       "      <td>-2.077445e-13</td>\n",
       "    </tr>\n",
       "    <tr>\n",
       "      <th>6</th>\n",
       "      <td>biotechnology</td>\n",
       "      <td>-9.359788e-15</td>\n",
       "    </tr>\n",
       "    <tr>\n",
       "      <th>7</th>\n",
       "      <td>data_and_analytics</td>\n",
       "      <td>-2.893374e-13</td>\n",
       "    </tr>\n",
       "    <tr>\n",
       "      <th>8</th>\n",
       "      <td>health_care</td>\n",
       "      <td>-1.670524e-13</td>\n",
       "    </tr>\n",
       "    <tr>\n",
       "      <th>9</th>\n",
       "      <td>science_and_engineering</td>\n",
       "      <td>-2.068581e-13</td>\n",
       "    </tr>\n",
       "    <tr>\n",
       "      <th>10</th>\n",
       "      <td>software</td>\n",
       "      <td>-8.541612e-13</td>\n",
       "    </tr>\n",
       "    <tr>\n",
       "      <th>11</th>\n",
       "      <td>apps</td>\n",
       "      <td>-1.332956e-13</td>\n",
       "    </tr>\n",
       "    <tr>\n",
       "      <th>12</th>\n",
       "      <td>mobile</td>\n",
       "      <td>-2.778633e-13</td>\n",
       "    </tr>\n",
       "    <tr>\n",
       "      <th>13</th>\n",
       "      <td>transportation</td>\n",
       "      <td>-1.109577e-13</td>\n",
       "    </tr>\n",
       "    <tr>\n",
       "      <th>14</th>\n",
       "      <td>commerce_and_shopping</td>\n",
       "      <td>-2.221179e-13</td>\n",
       "    </tr>\n",
       "    <tr>\n",
       "      <th>15</th>\n",
       "      <td>hardware</td>\n",
       "      <td>-3.381328e-13</td>\n",
       "    </tr>\n",
       "    <tr>\n",
       "      <th>16</th>\n",
       "      <td>information_technology</td>\n",
       "      <td>-2.787997e-13</td>\n",
       "    </tr>\n",
       "    <tr>\n",
       "      <th>17</th>\n",
       "      <td>professional_services</td>\n",
       "      <td>-6.900537e-14</td>\n",
       "    </tr>\n",
       "    <tr>\n",
       "      <th>18</th>\n",
       "      <td>sales_and_marketing</td>\n",
       "      <td>-1.241195e-13</td>\n",
       "    </tr>\n",
       "    <tr>\n",
       "      <th>19</th>\n",
       "      <td>content_and_publishing</td>\n",
       "      <td>-6.067314e-14</td>\n",
       "    </tr>\n",
       "    <tr>\n",
       "      <th>20</th>\n",
       "      <td>media_and_entertainment</td>\n",
       "      <td>-1.983544e-13</td>\n",
       "    </tr>\n",
       "    <tr>\n",
       "      <th>21</th>\n",
       "      <td>music_and_audio</td>\n",
       "      <td>-1.996526e-14</td>\n",
       "    </tr>\n",
       "    <tr>\n",
       "      <th>22</th>\n",
       "      <td>community_and_lifestyle</td>\n",
       "      <td>-7.903394e-14</td>\n",
       "    </tr>\n",
       "    <tr>\n",
       "      <th>23</th>\n",
       "      <td>education</td>\n",
       "      <td>-7.142299e-14</td>\n",
       "    </tr>\n",
       "    <tr>\n",
       "      <th>24</th>\n",
       "      <td>internet_services</td>\n",
       "      <td>-4.095864e-13</td>\n",
       "    </tr>\n",
       "    <tr>\n",
       "      <th>25</th>\n",
       "      <td>navigation_and_mapping</td>\n",
       "      <td>-4.253703e-14</td>\n",
       "    </tr>\n",
       "    <tr>\n",
       "      <th>26</th>\n",
       "      <td>video</td>\n",
       "      <td>-5.114806e-14</td>\n",
       "    </tr>\n",
       "    <tr>\n",
       "      <th>27</th>\n",
       "      <td>financial_services</td>\n",
       "      <td>-1.609349e-13</td>\n",
       "    </tr>\n",
       "    <tr>\n",
       "      <th>28</th>\n",
       "      <td>privacy_and_security</td>\n",
       "      <td>-8.134864e-14</td>\n",
       "    </tr>\n",
       "    <tr>\n",
       "      <th>29</th>\n",
       "      <td>manufacturing</td>\n",
       "      <td>-2.359291e-14</td>\n",
       "    </tr>\n",
       "    <tr>\n",
       "      <th>30</th>\n",
       "      <td>design</td>\n",
       "      <td>-9.878153e-14</td>\n",
       "    </tr>\n",
       "    <tr>\n",
       "      <th>31</th>\n",
       "      <td>messaging_and_telecommunications</td>\n",
       "      <td>-4.311261e-14</td>\n",
       "    </tr>\n",
       "    <tr>\n",
       "      <th>32</th>\n",
       "      <td>consumer_electronics</td>\n",
       "      <td>-1.576355e-13</td>\n",
       "    </tr>\n",
       "    <tr>\n",
       "      <th>33</th>\n",
       "      <td>consumer_goods</td>\n",
       "      <td>-4.876090e-14</td>\n",
       "    </tr>\n",
       "    <tr>\n",
       "      <th>34</th>\n",
       "      <td>payments</td>\n",
       "      <td>-9.151373e-14</td>\n",
       "    </tr>\n",
       "    <tr>\n",
       "      <th>35</th>\n",
       "      <td>platforms</td>\n",
       "      <td>-5.495496e-14</td>\n",
       "    </tr>\n",
       "    <tr>\n",
       "      <th>36</th>\n",
       "      <td>lending_and_investments</td>\n",
       "      <td>-2.684602e-14</td>\n",
       "    </tr>\n",
       "    <tr>\n",
       "      <th>37</th>\n",
       "      <td>sports</td>\n",
       "      <td>-5.020243e-14</td>\n",
       "    </tr>\n",
       "    <tr>\n",
       "      <th>38</th>\n",
       "      <td>real_estate</td>\n",
       "      <td>-9.407106e-14</td>\n",
       "    </tr>\n",
       "    <tr>\n",
       "      <th>39</th>\n",
       "      <td>clothing_and_apparel</td>\n",
       "      <td>-3.546134e-14</td>\n",
       "    </tr>\n",
       "    <tr>\n",
       "      <th>40</th>\n",
       "      <td>gaming</td>\n",
       "      <td>-4.510886e-14</td>\n",
       "    </tr>\n",
       "    <tr>\n",
       "      <th>41</th>\n",
       "      <td>administrative_services</td>\n",
       "      <td>-2.576731e-14</td>\n",
       "    </tr>\n",
       "    <tr>\n",
       "      <th>42</th>\n",
       "      <td>government_and_military</td>\n",
       "      <td>-1.368008e-14</td>\n",
       "    </tr>\n",
       "    <tr>\n",
       "      <th>43</th>\n",
       "      <td>natural_resources</td>\n",
       "      <td>-9.149951e-15</td>\n",
       "    </tr>\n",
       "    <tr>\n",
       "      <th>44</th>\n",
       "      <td>sustainability</td>\n",
       "      <td>2.436500e-14</td>\n",
       "    </tr>\n",
       "    <tr>\n",
       "      <th>45</th>\n",
       "      <td>travel_and_tourism</td>\n",
       "      <td>-2.330144e-14</td>\n",
       "    </tr>\n",
       "    <tr>\n",
       "      <th>46</th>\n",
       "      <td>advertising</td>\n",
       "      <td>-1.207839e-14</td>\n",
       "    </tr>\n",
       "    <tr>\n",
       "      <th>47</th>\n",
       "      <td>events</td>\n",
       "      <td>-1.098358e-14</td>\n",
       "    </tr>\n",
       "    <tr>\n",
       "      <th>48</th>\n",
       "      <td>food_and_beverage</td>\n",
       "      <td>-7.566843e-14</td>\n",
       "    </tr>\n",
       "    <tr>\n",
       "      <th>49</th>\n",
       "      <td>agriculture_and_farming</td>\n",
       "      <td>-5.129327e-15</td>\n",
       "    </tr>\n",
       "    <tr>\n",
       "      <th>50</th>\n",
       "      <td>energy</td>\n",
       "      <td>3.979700e-14</td>\n",
       "    </tr>\n",
       "    <tr>\n",
       "      <th>51</th>\n",
       "      <td>days_since_founded</td>\n",
       "      <td>-2.525990e-09</td>\n",
       "    </tr>\n",
       "    <tr>\n",
       "      <th>52</th>\n",
       "      <td>days_since_last_funding</td>\n",
       "      <td>-1.954397e-09</td>\n",
       "    </tr>\n",
       "    <tr>\n",
       "      <th>53</th>\n",
       "      <td>top_100_count</td>\n",
       "      <td>-1.330210e-13</td>\n",
       "    </tr>\n",
       "  </tbody>\n",
       "</table>\n",
       "</div>"
      ],
      "text/plain": [
       "                            variable         value\n",
       "0                last_funding_amount -3.188496e-08\n",
       "1                 number_of_founders -3.126630e-12\n",
       "2                number_of_investors -7.086589e-12\n",
       "3           number_of_lead_investors -3.897882e-13\n",
       "4               total_funding_amount  2.991418e-08\n",
       "5            artificial_intelligence -2.077445e-13\n",
       "6                      biotechnology -9.359788e-15\n",
       "7                 data_and_analytics -2.893374e-13\n",
       "8                        health_care -1.670524e-13\n",
       "9            science_and_engineering -2.068581e-13\n",
       "10                          software -8.541612e-13\n",
       "11                              apps -1.332956e-13\n",
       "12                            mobile -2.778633e-13\n",
       "13                    transportation -1.109577e-13\n",
       "14             commerce_and_shopping -2.221179e-13\n",
       "15                          hardware -3.381328e-13\n",
       "16            information_technology -2.787997e-13\n",
       "17             professional_services -6.900537e-14\n",
       "18               sales_and_marketing -1.241195e-13\n",
       "19            content_and_publishing -6.067314e-14\n",
       "20           media_and_entertainment -1.983544e-13\n",
       "21                   music_and_audio -1.996526e-14\n",
       "22           community_and_lifestyle -7.903394e-14\n",
       "23                         education -7.142299e-14\n",
       "24                 internet_services -4.095864e-13\n",
       "25            navigation_and_mapping -4.253703e-14\n",
       "26                             video -5.114806e-14\n",
       "27                financial_services -1.609349e-13\n",
       "28              privacy_and_security -8.134864e-14\n",
       "29                     manufacturing -2.359291e-14\n",
       "30                            design -9.878153e-14\n",
       "31  messaging_and_telecommunications -4.311261e-14\n",
       "32              consumer_electronics -1.576355e-13\n",
       "33                    consumer_goods -4.876090e-14\n",
       "34                          payments -9.151373e-14\n",
       "35                         platforms -5.495496e-14\n",
       "36           lending_and_investments -2.684602e-14\n",
       "37                            sports -5.020243e-14\n",
       "38                       real_estate -9.407106e-14\n",
       "39              clothing_and_apparel -3.546134e-14\n",
       "40                            gaming -4.510886e-14\n",
       "41           administrative_services -2.576731e-14\n",
       "42           government_and_military -1.368008e-14\n",
       "43                 natural_resources -9.149951e-15\n",
       "44                    sustainability  2.436500e-14\n",
       "45                travel_and_tourism -2.330144e-14\n",
       "46                       advertising -1.207839e-14\n",
       "47                            events -1.098358e-14\n",
       "48                 food_and_beverage -7.566843e-14\n",
       "49           agriculture_and_farming -5.129327e-15\n",
       "50                            energy  3.979700e-14\n",
       "51                days_since_founded -2.525990e-09\n",
       "52           days_since_last_funding -1.954397e-09\n",
       "53                     top_100_count -1.330210e-13"
      ]
     },
     "execution_count": 31,
     "metadata": {},
     "output_type": "execute_result"
    }
   ],
   "source": [
    "log_coef = pd.DataFrame(logistic_regression.coef_, columns=X.columns)\n",
    "\n",
    "log_coef = log_coef.melt()\n",
    "# log_coef.sort_values(by=['value'], ascending = False)\n",
    "log_coef"
   ]
  },
  {
   "cell_type": "markdown",
   "metadata": {},
   "source": [
    "#### Random Forest"
   ]
  },
  {
   "cell_type": "code",
   "execution_count": 19,
   "metadata": {},
   "outputs": [],
   "source": [
    "random_forest_param = {'n_estimators': [4,5,6,7,8, 9], \n",
    "              'max_features': ['log2', 'sqrt','auto',None],\n",
    "              'criterion': ['entropy', 'gini'], \n",
    "              'max_depth': [2, 3, 5, 10], \n",
    "              'min_samples_split': [2, 3, 5],\n",
    "              'min_samples_leaf': [1,5,8],\n",
    "              'class_weight' : ['balanced','balanced_subsample', None]}\n"
   ]
  },
  {
   "cell_type": "code",
   "execution_count": 20,
   "metadata": {},
   "outputs": [
    {
     "name": "stdout",
     "output_type": "stream",
     "text": [
      "0.9812169658270801\n",
      "{'n_estimators': 4, 'min_samples_split': 2, 'min_samples_leaf': 5, 'max_features': 'auto', 'max_depth': 10, 'criterion': 'entropy', 'class_weight': None}\n"
     ]
    }
   ],
   "source": [
    "random_forest = RandomForestClassifier(n_jobs = -1)\n",
    "rand_search = RandomizedSearchCV(random_forest, random_forest_param, cv=5,scoring='recall',iid=True)\n",
    "\n",
    "rand_search.fit(X_train_adasyn, y_train_adasyn)\n",
    "print(rand_search.best_score_)\n",
    "print(rand_search.best_params_)\n"
   ]
  },
  {
   "cell_type": "code",
   "execution_count": 39,
   "metadata": {},
   "outputs": [
    {
     "name": "stdout",
     "output_type": "stream",
     "text": [
      "Accuracy Score: 0.9718660968660968\n",
      "Recall Score: 0.9816254416961131\n",
      "F1 Score: 0.9723486174308716\n",
      "FBeta: 0.9720194050400465\n",
      "Precision: 0.963245492371706\n"
     ]
    }
   ],
   "source": [
    "random_forest = RandomForestClassifier(n_estimators= 4, min_samples_split=2\n",
    "                                       ,min_samples_leaf=4, max_features= 'auto', max_depth= 10\n",
    "                                       , criterion= 'entropy'\n",
    "                                       ,class_weight= None)\n",
    "\n",
    "random_forest.fit(X_train_adasyn, y_train_adasyn)\n",
    "y_pred_adasyn = random_forest.predict(X_val_adasyn)\n",
    "\n",
    "print(f\"Accuracy Score: {metrics.accuracy_score(y_val_adasyn, y_pred_adasyn)}\")\n",
    "print(f\"Recall Score: {metrics.recall_score(y_val_adasyn,y_pred_adasyn)}\")\n",
    "print(f\"F1 Score: {metrics.f1_score(y_val_adasyn,y_pred_adasyn)}\")\n",
    "print(f\"FBeta: {metrics.fbeta_score(y_val_adasyn, y_pred_adasyn, average='macro', beta=0.4)}\")\n",
    "print(f\"Precision: {metrics.precision_score(y_val_adasyn, y_pred_adasyn)}\")\n"
   ]
  },
  {
   "cell_type": "code",
   "execution_count": 40,
   "metadata": {},
   "outputs": [],
   "source": [
    "y_pred_proba = random_forest.predict_proba(X_val_adasyn)[:,1] \n",
    "false_positive_rate_random_forest, true_positive_rate_random_forest, _ = roc_curve(y_val_adasyn,y_pred_proba)\n"
   ]
  },
  {
   "cell_type": "code",
   "execution_count": 28,
   "metadata": {},
   "outputs": [],
   "source": [
    "feat_importances = pd.Series(random_forest.feature_importances_, index=X.columns)\n",
    "\n",
    "feat_import = pd.DataFrame(random_forest.feature_importances_, index=X.columns)\n"
   ]
  },
  {
   "cell_type": "code",
   "execution_count": 29,
   "metadata": {},
   "outputs": [
    {
     "data": {
      "text/html": [
       "<div>\n",
       "<style scoped>\n",
       "    .dataframe tbody tr th:only-of-type {\n",
       "        vertical-align: middle;\n",
       "    }\n",
       "\n",
       "    .dataframe tbody tr th {\n",
       "        vertical-align: top;\n",
       "    }\n",
       "\n",
       "    .dataframe thead th {\n",
       "        text-align: right;\n",
       "    }\n",
       "</style>\n",
       "<table border=\"1\" class=\"dataframe\">\n",
       "  <thead>\n",
       "    <tr style=\"text-align: right;\">\n",
       "      <th></th>\n",
       "      <th>0</th>\n",
       "    </tr>\n",
       "  </thead>\n",
       "  <tbody>\n",
       "    <tr>\n",
       "      <th>total_funding_amount</th>\n",
       "      <td>0.536139</td>\n",
       "    </tr>\n",
       "    <tr>\n",
       "      <th>advertising</th>\n",
       "      <td>0.073845</td>\n",
       "    </tr>\n",
       "    <tr>\n",
       "      <th>number_of_investors</th>\n",
       "      <td>0.061834</td>\n",
       "    </tr>\n",
       "    <tr>\n",
       "      <th>days_since_founded</th>\n",
       "      <td>0.037323</td>\n",
       "    </tr>\n",
       "    <tr>\n",
       "      <th>software</th>\n",
       "      <td>0.034311</td>\n",
       "    </tr>\n",
       "    <tr>\n",
       "      <th>information_technology</th>\n",
       "      <td>0.030977</td>\n",
       "    </tr>\n",
       "    <tr>\n",
       "      <th>biotechnology</th>\n",
       "      <td>0.030810</td>\n",
       "    </tr>\n",
       "    <tr>\n",
       "      <th>number_of_lead_investors</th>\n",
       "      <td>0.023072</td>\n",
       "    </tr>\n",
       "    <tr>\n",
       "      <th>health_care</th>\n",
       "      <td>0.021152</td>\n",
       "    </tr>\n",
       "    <tr>\n",
       "      <th>days_since_last_funding</th>\n",
       "      <td>0.019810</td>\n",
       "    </tr>\n",
       "    <tr>\n",
       "      <th>last_funding_amount</th>\n",
       "      <td>0.019093</td>\n",
       "    </tr>\n",
       "    <tr>\n",
       "      <th>data_and_analytics</th>\n",
       "      <td>0.017487</td>\n",
       "    </tr>\n",
       "    <tr>\n",
       "      <th>number_of_founders</th>\n",
       "      <td>0.011200</td>\n",
       "    </tr>\n",
       "    <tr>\n",
       "      <th>education</th>\n",
       "      <td>0.010492</td>\n",
       "    </tr>\n",
       "    <tr>\n",
       "      <th>mobile</th>\n",
       "      <td>0.008526</td>\n",
       "    </tr>\n",
       "    <tr>\n",
       "      <th>hardware</th>\n",
       "      <td>0.006794</td>\n",
       "    </tr>\n",
       "    <tr>\n",
       "      <th>science_and_engineering</th>\n",
       "      <td>0.006081</td>\n",
       "    </tr>\n",
       "    <tr>\n",
       "      <th>internet_services</th>\n",
       "      <td>0.005740</td>\n",
       "    </tr>\n",
       "    <tr>\n",
       "      <th>manufacturing</th>\n",
       "      <td>0.004792</td>\n",
       "    </tr>\n",
       "    <tr>\n",
       "      <th>artificial_intelligence</th>\n",
       "      <td>0.004577</td>\n",
       "    </tr>\n",
       "    <tr>\n",
       "      <th>apps</th>\n",
       "      <td>0.003831</td>\n",
       "    </tr>\n",
       "    <tr>\n",
       "      <th>consumer_electronics</th>\n",
       "      <td>0.002910</td>\n",
       "    </tr>\n",
       "    <tr>\n",
       "      <th>consumer_goods</th>\n",
       "      <td>0.002776</td>\n",
       "    </tr>\n",
       "    <tr>\n",
       "      <th>real_estate</th>\n",
       "      <td>0.002636</td>\n",
       "    </tr>\n",
       "    <tr>\n",
       "      <th>energy</th>\n",
       "      <td>0.002399</td>\n",
       "    </tr>\n",
       "    <tr>\n",
       "      <th>commerce_and_shopping</th>\n",
       "      <td>0.002055</td>\n",
       "    </tr>\n",
       "    <tr>\n",
       "      <th>media_and_entertainment</th>\n",
       "      <td>0.001757</td>\n",
       "    </tr>\n",
       "    <tr>\n",
       "      <th>messaging_and_telecommunications</th>\n",
       "      <td>0.001717</td>\n",
       "    </tr>\n",
       "    <tr>\n",
       "      <th>payments</th>\n",
       "      <td>0.001677</td>\n",
       "    </tr>\n",
       "    <tr>\n",
       "      <th>top_100_count</th>\n",
       "      <td>0.001267</td>\n",
       "    </tr>\n",
       "    <tr>\n",
       "      <th>financial_services</th>\n",
       "      <td>0.001150</td>\n",
       "    </tr>\n",
       "    <tr>\n",
       "      <th>lending_and_investments</th>\n",
       "      <td>0.001120</td>\n",
       "    </tr>\n",
       "    <tr>\n",
       "      <th>travel_and_tourism</th>\n",
       "      <td>0.001096</td>\n",
       "    </tr>\n",
       "    <tr>\n",
       "      <th>video</th>\n",
       "      <td>0.001020</td>\n",
       "    </tr>\n",
       "    <tr>\n",
       "      <th>content_and_publishing</th>\n",
       "      <td>0.000973</td>\n",
       "    </tr>\n",
       "    <tr>\n",
       "      <th>gaming</th>\n",
       "      <td>0.000822</td>\n",
       "    </tr>\n",
       "    <tr>\n",
       "      <th>community_and_lifestyle</th>\n",
       "      <td>0.000755</td>\n",
       "    </tr>\n",
       "    <tr>\n",
       "      <th>music_and_audio</th>\n",
       "      <td>0.000714</td>\n",
       "    </tr>\n",
       "    <tr>\n",
       "      <th>transportation</th>\n",
       "      <td>0.000674</td>\n",
       "    </tr>\n",
       "    <tr>\n",
       "      <th>privacy_and_security</th>\n",
       "      <td>0.000506</td>\n",
       "    </tr>\n",
       "    <tr>\n",
       "      <th>government_and_military</th>\n",
       "      <td>0.000506</td>\n",
       "    </tr>\n",
       "    <tr>\n",
       "      <th>sustainability</th>\n",
       "      <td>0.000497</td>\n",
       "    </tr>\n",
       "    <tr>\n",
       "      <th>design</th>\n",
       "      <td>0.000496</td>\n",
       "    </tr>\n",
       "    <tr>\n",
       "      <th>events</th>\n",
       "      <td>0.000406</td>\n",
       "    </tr>\n",
       "    <tr>\n",
       "      <th>sales_and_marketing</th>\n",
       "      <td>0.000382</td>\n",
       "    </tr>\n",
       "    <tr>\n",
       "      <th>agriculture_and_farming</th>\n",
       "      <td>0.000366</td>\n",
       "    </tr>\n",
       "    <tr>\n",
       "      <th>sports</th>\n",
       "      <td>0.000359</td>\n",
       "    </tr>\n",
       "    <tr>\n",
       "      <th>platforms</th>\n",
       "      <td>0.000356</td>\n",
       "    </tr>\n",
       "    <tr>\n",
       "      <th>navigation_and_mapping</th>\n",
       "      <td>0.000274</td>\n",
       "    </tr>\n",
       "    <tr>\n",
       "      <th>food_and_beverage</th>\n",
       "      <td>0.000244</td>\n",
       "    </tr>\n",
       "    <tr>\n",
       "      <th>professional_services</th>\n",
       "      <td>0.000203</td>\n",
       "    </tr>\n",
       "    <tr>\n",
       "      <th>administrative_services</th>\n",
       "      <td>0.000000</td>\n",
       "    </tr>\n",
       "    <tr>\n",
       "      <th>clothing_and_apparel</th>\n",
       "      <td>0.000000</td>\n",
       "    </tr>\n",
       "    <tr>\n",
       "      <th>natural_resources</th>\n",
       "      <td>0.000000</td>\n",
       "    </tr>\n",
       "  </tbody>\n",
       "</table>\n",
       "</div>"
      ],
      "text/plain": [
       "                                         0\n",
       "total_funding_amount              0.536139\n",
       "advertising                       0.073845\n",
       "number_of_investors               0.061834\n",
       "days_since_founded                0.037323\n",
       "software                          0.034311\n",
       "information_technology            0.030977\n",
       "biotechnology                     0.030810\n",
       "number_of_lead_investors          0.023072\n",
       "health_care                       0.021152\n",
       "days_since_last_funding           0.019810\n",
       "last_funding_amount               0.019093\n",
       "data_and_analytics                0.017487\n",
       "number_of_founders                0.011200\n",
       "education                         0.010492\n",
       "mobile                            0.008526\n",
       "hardware                          0.006794\n",
       "science_and_engineering           0.006081\n",
       "internet_services                 0.005740\n",
       "manufacturing                     0.004792\n",
       "artificial_intelligence           0.004577\n",
       "apps                              0.003831\n",
       "consumer_electronics              0.002910\n",
       "consumer_goods                    0.002776\n",
       "real_estate                       0.002636\n",
       "energy                            0.002399\n",
       "commerce_and_shopping             0.002055\n",
       "media_and_entertainment           0.001757\n",
       "messaging_and_telecommunications  0.001717\n",
       "payments                          0.001677\n",
       "top_100_count                     0.001267\n",
       "financial_services                0.001150\n",
       "lending_and_investments           0.001120\n",
       "travel_and_tourism                0.001096\n",
       "video                             0.001020\n",
       "content_and_publishing            0.000973\n",
       "gaming                            0.000822\n",
       "community_and_lifestyle           0.000755\n",
       "music_and_audio                   0.000714\n",
       "transportation                    0.000674\n",
       "privacy_and_security              0.000506\n",
       "government_and_military           0.000506\n",
       "sustainability                    0.000497\n",
       "design                            0.000496\n",
       "events                            0.000406\n",
       "sales_and_marketing               0.000382\n",
       "agriculture_and_farming           0.000366\n",
       "sports                            0.000359\n",
       "platforms                         0.000356\n",
       "navigation_and_mapping            0.000274\n",
       "food_and_beverage                 0.000244\n",
       "professional_services             0.000203\n",
       "administrative_services           0.000000\n",
       "clothing_and_apparel              0.000000\n",
       "natural_resources                 0.000000"
      ]
     },
     "execution_count": 29,
     "metadata": {},
     "output_type": "execute_result"
    }
   ],
   "source": [
    "feat_import.sort_values(by = [0], ascending = False)"
   ]
  },
  {
   "cell_type": "markdown",
   "metadata": {},
   "source": [
    "#### SVC Model"
   ]
  },
  {
   "cell_type": "code",
   "execution_count": 201,
   "metadata": {},
   "outputs": [],
   "source": [
    "svc_model_param = {'kernel':['linear', 'poly', 'rbf','sigmoid']\n",
    "                   ,'gamma':[0.1, 1, 10, 100]\n",
    "                   ,'C':[0.1, 1, 10, 100, 1000]\n",
    "                   , 'degree':[0, 1, 2, 3, 4, 5, 6]}\n"
   ]
  },
  {
   "cell_type": "code",
   "execution_count": 202,
   "metadata": {},
   "outputs": [],
   "source": [
    "svc_model = svm.SVC()\n",
    "rand_search = RandomizedSearchCV(svc_model, svc_model_param, cv=5,scoring='recall',iid=True)\n",
    "\n",
    "rand_search.fit(X_train_adasyn, y_train_adasyn)\n",
    "print(rand_search.best_score_)\n",
    "print(rand_search.best_params_)"
   ]
  },
  {
   "cell_type": "code",
   "execution_count": 203,
   "metadata": {},
   "outputs": [],
   "source": [
    "svc_model = svm.SCV()\n",
    "\n",
    "scv_model.fit(X_train_adasyn, y_train_adasyn)\n",
    "y_pred_adasyn = scv_model.predict(X_val_adasyn)\n",
    "\n",
    "print(f\"Accuracy Score: {metrics.accuracy_score(y_val_adasyn, y_pred_adasyn)}\")\n",
    "print(f\"Recall Score: {metrics.recall_score(y_val_adasyn,y_pred_adasyn)}\")\n",
    "print(f\"F1 Score: {metrics.f1_score(y_val_adasyn,y_pred_adasyn)}\")"
   ]
  },
  {
   "cell_type": "markdown",
   "metadata": {},
   "source": [
    "#### ROC Plots"
   ]
  },
  {
   "cell_type": "code",
   "execution_count": 52,
   "metadata": {},
   "outputs": [
    {
     "data": {
      "image/png": "[encoded data removed]",
      "text/plain": [
       "<Figure size 720x720 with 1 Axes>"
      ]
     },
     "metadata": {
      "needs_background": "light"
     },
     "output_type": "display_data"
    }
   ],
   "source": [
    "plt.figure(figsize=(10,10))\n",
    "plt.title(\"ROC for Models\",  fontsize = 20)\n",
    "plt.plot(false_positive_rate_xgboost, true_positive_rate_xgboost, label = 'XGBoost Probability')\n",
    "plt.plot(false_positive_rate_knn, true_positive_rate_knn, label = 'KNN Probability')\n",
    "plt.plot(false_positive_rate_decision_tree, true_positive_rate_decision_tree, label = 'Decision Tree Probability')\n",
    "plt.plot(false_positive_rate_logisitc, true_positive_rate_logistic, label = 'Logistic Regression Probability')\n",
    "plt.plot(false_positive_rate_random_forest, true_positive_rate_random_forest, label= 'Random Forest Probability')\n",
    "plt.xlabel('False positive rate', fontsize = 15)\n",
    "plt.ylabel('True positive rate',  fontsize = 15)\n",
    "\n",
    "\n",
    "plt.plot([0,1],[0,1],'k--')\n",
    "plt.legend(fontsize = 15)\n",
    "plt.show()\n"
   ]
  },
  {
   "cell_type": "code",
   "execution_count": null,
   "metadata": {},
   "outputs": [],
   "source": []
  }
 ],
 "metadata": {
  "kernelspec": {
   "display_name": "Python 3",
   "language": "python",
   "name": "python3"
  },
  "language_info": {
   "codemirror_mode": {
    "name": "ipython",
    "version": 3
   },
   "file_extension": ".py",
   "mimetype": "text/x-python",
   "name": "python",
   "nbconvert_exporter": "python",
   "pygments_lexer": "ipython3",
   "version": "3.7.3"
  }
 },
 "nbformat": 4,
 "nbformat_minor": 2
}
